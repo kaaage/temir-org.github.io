{
 "cells": [
  {
   "cell_type": "markdown",
   "id": "6e79966b-da5e-4ba7-b88d-68d277bb3ded",
   "metadata": {},
   "source": [
    "# Deep Learning on SLURM\n",
    "\n",
    "## Session 01 - Preparations\n",
    "\n",
    "- *Course*: Big Data and Language Technologies\n",
    "- *Date*: 02.05.2022\n",
    "\n",
    "In this session, we will prepare running a Deep Learning model on our cluster servers running SLURM. First, we will introduce the dataset and model architecture."
   ]
  },
  {
   "cell_type": "code",
   "execution_count": null,
   "id": "a0110e85-a84e-461f-a086-7a87804a8c6e",
   "metadata": {
    "slideshow": {
     "slide_type": "slide"
    },
    "tags": []
   },
   "outputs": [],
   "source": [
    "#!pip install transformers\n",
    "#!pip install tensorflow\n",
    "#!pip install scikit-learn"
   ]
  },
  {
   "cell_type": "markdown",
   "id": "fcac17d1-7b87-4884-a3db-4a411b0b4057",
   "metadata": {},
   "source": [
    "## Setup"
   ]
  },
  {
   "cell_type": "code",
   "execution_count": null,
   "id": "34d1ae21-8b1a-40bf-9b33-4291a339e772",
   "metadata": {
    "slideshow": {
     "slide_type": "slide"
    },
    "tags": []
   },
   "outputs": [],
   "source": [
    "CONFIG = {\n",
    "    \"model\": \"distilbert-base-uncased\",\n",
    "    \"seq_length\": 512,\n",
    "    \"num_classes\": 20,\n",
    "    \"batch_size\": 64,\n",
    "}"
   ]
  },
  {
   "cell_type": "code",
   "execution_count": null,
   "id": "1988f5f6-ff79-418e-ad00-cf63a522ee8d",
   "metadata": {
    "slideshow": {
     "slide_type": "slide"
    },
    "tags": []
   },
   "outputs": [],
   "source": [
    "import tensorflow as tf\n",
    "# Check for TensorFlow GPU access\n",
    "print(f\"TensorFlow has access to the following devices:\\n{tf.config.list_physical_devices()}\")\n",
    "\n",
    "# Check TensorFlow version\n",
    "print(f\"TensorFlow version: {tf.__version__}\")"
   ]
  },
  {
   "cell_type": "markdown",
   "id": "651f995b-b8f8-4947-93e5-3851ff2a3c33",
   "metadata": {},
   "source": [
    "## Obtaining Data\n",
    "\n",
    "**Exercise**: load the 20NG datasets using the `sklearn.datasets` module."
   ]
  },
  {
   "cell_type": "code",
   "execution_count": null,
   "id": "feff538d-0922-46f2-a40b-390d8ed7031e",
   "metadata": {},
   "outputs": [],
   "source": [
    "from sklearn.datasets import fetch_20newsgroups\n"
   ]
  },
  {
   "cell_type": "markdown",
   "id": "30b8ac00-cf99-4e3e-923d-5293e2b7a55d",
   "metadata": {},
   "source": [
    "**Exercise**: split the data into training, validation, and test data. (80/10/10)"
   ]
  },
  {
   "cell_type": "code",
   "execution_count": null,
   "id": "cb6dbd9d-4cba-4225-a87b-d46923d9c39c",
   "metadata": {},
   "outputs": [],
   "source": [
    "from sklearn.model_selection import train_test_split\n"
   ]
  },
  {
   "cell_type": "markdown",
   "id": "48616e7f-b151-42b2-a82a-b5ffdcea064b",
   "metadata": {},
   "source": [
    "## Preprocessing\n",
    "\n",
    "**Exercise**: Load the `DistilBertTokenizer` pretrained tokenizer and apply it to tokenize the 20NG data."
   ]
  },
  {
   "cell_type": "code",
   "execution_count": null,
   "id": "e7246f73-80f3-427d-9a99-a2273b43d17c",
   "metadata": {
    "tags": []
   },
   "outputs": [],
   "source": [
    "from transformers import DistilBertTokenizer\n"
   ]
  },
  {
   "cell_type": "markdown",
   "id": "25fd41f8-0071-4843-b841-8df82bc90114",
   "metadata": {},
   "source": [
    "**Exercise**: convert the dataset into a `tf.data.Dataset` "
   ]
  },
  {
   "cell_type": "code",
   "execution_count": null,
   "id": "1348c8b1-7b6f-47ab-9773-e158857266a4",
   "metadata": {},
   "outputs": [],
   "source": []
  },
  {
   "cell_type": "markdown",
   "id": "7339bfeb-768f-46e3-ac8b-07affc4eb085",
   "metadata": {},
   "source": [
    "**Exercise**: shuffle, repeate and batch the training data, batch the validation and test data."
   ]
  },
  {
   "cell_type": "code",
   "execution_count": null,
   "id": "9bca770f-bd94-45b7-8e6a-76a9f4bc9d10",
   "metadata": {},
   "outputs": [],
   "source": []
  },
  {
   "cell_type": "markdown",
   "id": "000e1b73-32d8-4a65-b7e2-0808b81057c4",
   "metadata": {},
   "source": [
    "## Importing the Pretrained Model\n",
    "\n",
    "**Exercise**: import the `TFDistilBertModel` from huggingface, with the model name as specified in the config."
   ]
  },
  {
   "cell_type": "code",
   "execution_count": null,
   "id": "eb328b59-8835-4bed-96e7-b72a7c2e4aa4",
   "metadata": {},
   "outputs": [],
   "source": [
    "from transformers import TFDistilBertModel\n"
   ]
  },
  {
   "cell_type": "markdown",
   "id": "f8157817-ab76-401b-bda2-f8f5b6ef9b44",
   "metadata": {},
   "source": [
    "**Exercise**: define two input layers to feed the `input_id` and `attention_mask` sequences into the transformer layer."
   ]
  },
  {
   "cell_type": "code",
   "execution_count": null,
   "id": "0d2c53b0-0810-48a2-8c51-ad2b6679cbdd",
   "metadata": {},
   "outputs": [],
   "source": []
  },
  {
   "cell_type": "markdown",
   "id": "43dd5626-c05a-4097-8f00-8039ef0c0b77",
   "metadata": {},
   "source": [
    "**Exercise**: extract the hidden representation of the `[CLS]` special token (always the first of every document)."
   ]
  },
  {
   "cell_type": "code",
   "execution_count": null,
   "id": "c2d53c33-a387-4672-a67f-807cd83b1b4b",
   "metadata": {},
   "outputs": [],
   "source": []
  },
  {
   "cell_type": "markdown",
   "id": "d09d3057-12ef-4473-ba51-fcad5fa3802b",
   "metadata": {},
   "source": [
    "## Defining a Classification Head\n",
    "\n",
    "**Exercise**: define a classification head with 5 layers: Dropout, Dense, Dropout, Dense, Output. The output layer needs to have the same number of dimensions as there are classes (20)."
   ]
  },
  {
   "cell_type": "code",
   "execution_count": null,
   "id": "b8f2410d-f2f7-4a27-8d30-ac42bf6241cc",
   "metadata": {},
   "outputs": [],
   "source": []
  },
  {
   "cell_type": "markdown",
   "id": "0e868507-c50a-4d88-b17a-53b333e42ceb",
   "metadata": {},
   "source": [
    "**Exercise**: use the previously defined layer stack to define a model. "
   ]
  },
  {
   "cell_type": "code",
   "execution_count": null,
   "id": "44771d61-2f13-491a-92b8-27f4dfab60ad",
   "metadata": {},
   "outputs": [],
   "source": []
  },
  {
   "cell_type": "markdown",
   "id": "3281d951-cf58-407a-866e-15bea87623ec",
   "metadata": {},
   "source": [
    "**Exercise**: set the pretrained layer (`tf_distilbert_model`) to not trainable (we only want to train the head)."
   ]
  },
  {
   "cell_type": "code",
   "execution_count": null,
   "id": "7b7f4974-d114-45c7-ab49-8ba900537f95",
   "metadata": {},
   "outputs": [],
   "source": []
  },
  {
   "cell_type": "markdown",
   "id": "54734f35-71a6-4968-b14d-2a26c3b01280",
   "metadata": {},
   "source": [
    "**Exercise**: compile the model with `SparseCategoricalCrossentropy` as loss function and the `Adam` optimizer."
   ]
  },
  {
   "cell_type": "code",
   "execution_count": null,
   "id": "b54c8546-bb92-43a0-8a3c-8b641c75d2b2",
   "metadata": {},
   "outputs": [],
   "source": []
  },
  {
   "cell_type": "markdown",
   "id": "a8258ee5-9043-4cf5-aafe-428fec31bb2a",
   "metadata": {},
   "source": [
    "**Exercise**: define three callbacks: `ModelCheckpoint`, `EarlyStopping`, and `TensorBoard`"
   ]
  },
  {
   "cell_type": "code",
   "execution_count": null,
   "id": "4e28cbd0-9372-4e48-aff1-92852c7fd827",
   "metadata": {
    "tags": []
   },
   "outputs": [],
   "source": []
  },
  {
   "cell_type": "markdown",
   "id": "38301196-c584-42c2-9739-7bdbe7205ee9",
   "metadata": {},
   "source": [
    "**Exercise**: fit the model."
   ]
  },
  {
   "cell_type": "code",
   "execution_count": null,
   "id": "928780e1-f821-4971-93bc-8c746846fb22",
   "metadata": {
    "tags": []
   },
   "outputs": [],
   "source": []
  },
  {
   "cell_type": "markdown",
   "id": "22a712e8-7dca-4e57-a62a-dfcebe2ee493",
   "metadata": {},
   "source": [
    "**Exercise**: load the best checkpoint from disk.\n",
    "\n",
    "*Notes*: \n",
    "- the model will likely be too big to train on you computer locally. You can get a finetuned version using the curl link below.\n",
    "- you need to specify the custom `TFDistilBertModel` pretrained class when loading."
   ]
  },
  {
   "cell_type": "code",
   "execution_count": null,
   "id": "39014884-ed8c-4123-b264-16a6b01c5e55",
   "metadata": {},
   "outputs": [],
   "source": [
    "#!curl https://files.webis.de/bdlt-ss22/finetuned_bert_20ng.hdf5 --output finetuned_bert_20ng.hdf5"
   ]
  },
  {
   "cell_type": "code",
   "execution_count": null,
   "id": "8466dc64-e025-4d75-953f-7adc0751ffde",
   "metadata": {},
   "outputs": [],
   "source": []
  }
 ],
 "metadata": {
  "kernelspec": {
   "display_name": "Python 3 (ipykernel)",
   "language": "python",
   "name": "python3"
  },
  "language_info": {
   "codemirror_mode": {
    "name": "ipython",
    "version": 3
   },
   "file_extension": ".py",
   "mimetype": "text/x-python",
   "name": "python",
   "nbconvert_exporter": "python",
   "pygments_lexer": "ipython3",
   "version": "3.9.7"
  }
 },
 "nbformat": 4,
 "nbformat_minor": 5
}
