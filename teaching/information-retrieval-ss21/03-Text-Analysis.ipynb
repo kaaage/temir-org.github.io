{
 "cells": [
  {
   "cell_type": "markdown",
   "metadata": {
    "collapsed": true
   },
   "source": [
    "# Information Retrieval Lab: Text Analysis\n",
    "\n",
    "The text analysis step extracts from a document’s text the keys by which it can be looked up in the index. Two kinds of keys are distinguished:\n",
    "\n",
    "* Index terms (*terms*, for short)\n",
    "* Features\n",
    "\n",
    "In this notebook, we will first implement tokenization stopword removal, and simple stemming in pure Python, to give you some more practice on what you have learned in the first two notebooks. Then, we will explore the text analysis capabilities of the `spacy` package, which will be used in future exercies.\n",
    "\n",
    "Lets start off with this small document collection:"
   ]
  },
  {
   "cell_type": "code",
   "execution_count": null,
   "metadata": {},
   "outputs": [],
   "source": [
    "documents = [\n",
    "    'This is the first document.',\n",
    "    'This is the second second document.',\n",
    "    'And the third one, with a comma.',\n",
    "    'Is this the first document?',\n",
    "]"
   ]
  },
  {
   "cell_type": "markdown",
   "metadata": {},
   "source": [
    "## Tokenization\n",
    "\n",
    "Tokenization turns a text string into a sequence of tokens. For now, we choose a very simple tokenization strategy: separate the input string by punctiation characters and whitespace. "
   ]
  },
  {
   "cell_type": "markdown",
   "metadata": {},
   "source": [
    "**Exercise**: Implement a method that turns a given string into lowercase words, according to the tokenization strategy defined above."
   ]
  },
  {
   "cell_type": "code",
   "execution_count": null,
   "metadata": {},
   "outputs": [],
   "source": [
    "import re\n",
    "\n",
    "def tokenize(document):\n",
    "    \"\"\"\n",
    "    Tokenizes a string by splitting it at spaces (one or more). Retains punctuation and special characters\n",
    "    :param document: a string representation of a sentence\n",
    "    :return: A list of lowercase strings representing the sentence, including punctuation\n",
    "    \"\"\"\n",
    "    # your code here \n",
    "    return [] "
   ]
  },
  {
   "cell_type": "markdown",
   "metadata": {},
   "source": [
    "Apply your tokenize function to the small document collection from above."
   ]
  },
  {
   "cell_type": "code",
   "execution_count": null,
   "metadata": {},
   "outputs": [],
   "source": []
  },
  {
   "cell_type": "markdown",
   "metadata": {},
   "source": [
    "**Question**: why is this simple tokenization scheme insufficient? What are its shortcomings and where might it fail?"
   ]
  },
  {
   "cell_type": "markdown",
   "metadata": {},
   "source": [
    "## Stopping\n",
    "\n",
    "Stopping, also stop word removal, discards a selection of words from the set of index terms of a document. Commonly, stopwords include function words (for example, \"the\", \"of\", \"to\", \"for\") and highly frequent words in the document collection or language (for example, “Wikipedia” appears on every Wikipedia page).\n",
    "\n",
    "You can download a list of english stopwords from the course page. We put them in a `./data` directory for now."
   ]
  },
  {
   "cell_type": "code",
   "execution_count": null,
   "metadata": {},
   "outputs": [],
   "source": [
    "with open(\"../data/stopwords.txt\", \"r\") as stopword_file:\n",
    "    stopwords = stopword_file.readlines()\n",
    "    stopwords = list(map(str.strip, stopwords))"
   ]
  },
  {
   "cell_type": "markdown",
   "metadata": {},
   "source": [
    "**Exercise**: Implement a function that removes stopwords from the token list produced by the tokenization step. Use the stopword list loaded before."
   ]
  },
  {
   "cell_type": "code",
   "execution_count": null,
   "metadata": {},
   "outputs": [],
   "source": [
    "def remove_stopwords(tokens, stopwords):\n",
    "    \"\"\"\n",
    "    Removes stopwords from list of tokens, according to a supplied list of words to remove\n",
    "    :param tokens: a list of string tokens\n",
    "    :param stopwords: a list of words to remove\n",
    "    :return: a list of stemmed string tokens\n",
    "    \"\"\"\n",
    "    # your code here\n",
    "    return []"
   ]
  },
  {
   "cell_type": "markdown",
   "metadata": {},
   "source": [
    "Apply your stopword function function to the tokenized document collection."
   ]
  },
  {
   "cell_type": "code",
   "execution_count": null,
   "metadata": {},
   "outputs": [],
   "source": []
  },
  {
   "cell_type": "markdown",
   "metadata": {},
   "source": [
    "**Question**: Take a look at the supplied stop word list. Are there words you would add, and why? Why do you think removing stopwords is beneficial to retrieve information from a corpus of documents?"
   ]
  },
  {
   "cell_type": "markdown",
   "metadata": {},
   "source": [
    "## Stemming\n",
    "\n",
    "Stemming aims at reducing inflected index terms to a common stem.\n",
    "For example, “statistics”, “statistic”, and “statistical” refer to basically the same abstract concept and should be mapped to one single term, likely \"statistic\".\n",
    "\n",
    "The upside of stemming / lemmatization is an increased chance of finding a document when it uses different grammar or derived words different from a query.\n",
    "\n",
    "Stemming is a complex subject, but a very basic approach is suffix stripping: simply removing common (english) inflection suffixes. "
   ]
  },
  {
   "cell_type": "markdown",
   "metadata": {},
   "source": [
    "**Exercise**: Write a simple stemming function that applies the following three rules:\n",
    "\n",
    "- if the word ends in 'ed', remove the 'ed'\n",
    "- if the word ends in 'ing', remove the 'ing'\n",
    "- if the word ends in 'ly', remove the 'ly'"
   ]
  },
  {
   "cell_type": "code",
   "execution_count": null,
   "metadata": {},
   "outputs": [],
   "source": [
    "def stem(tokens):\n",
    "    \"\"\"\n",
    "    Stems each token in a list of tokens by applying rule-based suffix stemming.\n",
    "    :param tokens: a list of string tokens\n",
    "    :return: a list of stemmed string tokens\n",
    "    \"\"\"\n",
    "    # your code here\n",
    "    return []"
   ]
  },
  {
   "cell_type": "markdown",
   "metadata": {},
   "source": [
    "Apply your stemmung function function to the document collection."
   ]
  },
  {
   "cell_type": "code",
   "execution_count": null,
   "metadata": {},
   "outputs": [],
   "source": [
    "stemmed_documents = list(map(lambda d: stem(d), stopped_documents))\n",
    "stemmed_documents"
   ]
  },
  {
   "cell_type": "markdown",
   "metadata": {},
   "source": [
    "**Question**: think of some examples where this simple stemming scheme does not work. Can you extend the rule set above to also capture these cases? What other ways of stemming, besides prefix/suffix removal can you come up with?"
   ]
  },
  {
   "cell_type": "markdown",
   "metadata": {},
   "source": [
    "## Wrapper Function\n",
    "\n",
    "Now that we have our basic three components of text preprocessing, we can wrap them into a single function, which takes a document as (string) input, and returns the list of preprocessed terms, ready for indexing. "
   ]
  },
  {
   "cell_type": "code",
   "execution_count": null,
   "metadata": {},
   "outputs": [],
   "source": [
    "def preprocess(document):\n",
    "    \"\"\"\n",
    "    Converts a string into a list of segmented, stopped, and stemmed tokens.\n",
    "    :param document: the input string\n",
    "    :return: a list processed tokens\n",
    "    \"\"\"\n",
    "    # your code here\n",
    "    return []"
   ]
  },
  {
   "cell_type": "markdown",
   "metadata": {},
   "source": [
    "Apply the complete preprocessing to the original document collection."
   ]
  },
  {
   "cell_type": "code",
   "execution_count": null,
   "metadata": {},
   "outputs": [],
   "source": []
  },
  {
   "cell_type": "markdown",
   "metadata": {},
   "source": [
    "## Advanced Text Analysis\n",
    "\n",
    "The three simple techniques implemented above are quite limited: words are not always separable at whitespace, our stopword list is rather small, and the stemming technique implemented only recognizes with a very limited set of possible word inflections.\n",
    "\n",
    "A widely used tool for advanced text analysis is the [`spacy`](spacy.io) package. Go ahead and install the package (and the `en_core_web_sm` language model) by following the [installation instructions](https://spacy.io/usage) for your environment."
   ]
  },
  {
   "cell_type": "code",
   "execution_count": null,
   "metadata": {},
   "outputs": [],
   "source": [
    "import spacy\n",
    "nlp = spacy.load(\"en_core_web_sm\")"
   ]
  },
  {
   "cell_type": "markdown",
   "metadata": {},
   "source": [
    "The surface API of `spacy` is really simple: we can call the `nlp` model defined above on any string, and `spacy` will automatically extract different kinds of information for you. "
   ]
  },
  {
   "cell_type": "code",
   "execution_count": null,
   "metadata": {},
   "outputs": [],
   "source": [
    "doc = nlp(\"The quick brown fox jumps over the lazy dog.\")"
   ]
  },
  {
   "cell_type": "code",
   "execution_count": null,
   "metadata": {},
   "outputs": [],
   "source": [
    "# this is a helper function to nicely visualize the annotated information right in your notebook\n",
    "from spacy import displacy\n",
    "\n",
    "# Show the dependency parsing result\n",
    "displacy.render(doc, style=\"dep\", jupyter=True)"
   ]
  },
  {
   "cell_type": "markdown",
   "metadata": {},
   "source": [
    "You can access the annotations made by `spacy` by accessing the attributes of individual tokens in your analyzed document. For a full list of the available information, refer to the [spacy API docs](https://spacy.io/api/token#attributes)."
   ]
  },
  {
   "cell_type": "markdown",
   "metadata": {},
   "source": [
    "**Exercise**: use spacy to print the text, lemma, POS tag, and whether its a stopword or not for each token in the document from above (`doc`)."
   ]
  },
  {
   "cell_type": "code",
   "execution_count": null,
   "metadata": {},
   "outputs": [],
   "source": []
  },
  {
   "cell_type": "markdown",
   "metadata": {},
   "source": [
    "**Exercise**: Implement the wrapper function from before, but this time, use `spacy` to analyze the text. "
   ]
  },
  {
   "cell_type": "code",
   "execution_count": null,
   "metadata": {},
   "outputs": [],
   "source": [
    "def preprocess_spacy(document):\n",
    "    \"\"\"\n",
    "    Converts a string into a list of segmented, stopped, and stemmed tokens.\n",
    "    :param document: the input string\n",
    "    :return: a list processed tokens\n",
    "    \"\"\"\n",
    "    return []"
   ]
  },
  {
   "cell_type": "markdown",
   "metadata": {},
   "source": [
    "Apply the spacy-based preprocessing function to the document collection."
   ]
  },
  {
   "cell_type": "code",
   "execution_count": null,
   "metadata": {},
   "outputs": [],
   "source": []
  },
  {
   "cell_type": "markdown",
   "metadata": {},
   "source": [
    "**Question**: Compare the results of both implementations. Try out different other sentences than the ones in the small text collection - can you spot significant differences between both token lists?"
   ]
  },
  {
   "cell_type": "code",
   "execution_count": null,
   "metadata": {},
   "outputs": [],
   "source": []
  }
 ],
 "metadata": {
  "kernelspec": {
   "display_name": "Python 3",
   "language": "python",
   "name": "python3"
  },
  "language_info": {
   "codemirror_mode": {
    "name": "ipython",
    "version": 3
   },
   "file_extension": ".py",
   "mimetype": "text/x-python",
   "name": "python",
   "nbconvert_exporter": "python",
   "pygments_lexer": "ipython3",
   "version": "3.8.2"
  }
 },
 "nbformat": 4,
 "nbformat_minor": 1
}
