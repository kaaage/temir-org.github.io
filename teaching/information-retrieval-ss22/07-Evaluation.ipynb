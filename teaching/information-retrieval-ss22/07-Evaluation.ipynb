{
 "cells": [
  {
   "cell_type": "markdown",
   "metadata": {},
   "source": [
    "# Information Retrieval Lab: Evaluation"
   ]
  },
  {
   "cell_type": "markdown",
   "metadata": {},
   "source": [
    "In this exercise, we will conduct a laboratory experiment to estimate the effectiveness of different retrieval systems. The goal is to determine, which system fairs best on a given document collection and retrieval task."
   ]
  },
  {
   "cell_type": "markdown",
   "metadata": {},
   "source": [
    "## Lecture Recall\n",
    "\n",
    "First, recall some important concepts from the lecture:\n",
    "\n",
    "\n",
    "###### Document Collection (corpus)\n",
    "> A “representative” sample of documents from the domain of interest. The sampling method ofhow documents are drawn from the population determines a corpus’s validity. \n",
    "\n",
    "######  Information Needs (topics)\n",
    "> Formalized, written descriptions of users’ tasks, goals, or gaps of knowledge. Alternatively,descriptions of desired search results. Often accompanied by specific queries the users(would) have used to search for relevant documents.\n",
    "\n",
    "###### Relevance Judgements\n",
    "> Pairs of topics and documents, where each document has been manually assessed withrespect to its relevance to its associated topic. Ideally, the judgments are obtained from thesame users who supplied the topics, but in practice judgments are collected from thirdparties. Judgments may be given in binary form, or on a Likert scale."
   ]
  },
  {
   "cell_type": "markdown",
   "metadata": {},
   "source": [
    "This setup is sometimes referred to as an experiment under the *Cranfield paradigm*, in reference to Cyril Cleverdon’s series of projects at the Cranfield University in the 1960s, which first used this evaluation methodology. In this exercise, we will rely on the same document set, topics and relevance judgements, known as the *Cranfield collection*.\n",
    "\n",
    "The collection is provided as zip file alongside this exercise. Go ahead and unpack it somewhere. Update the path below to point to the correct location."
   ]
  },
  {
   "cell_type": "code",
   "execution_count": 1,
   "metadata": {
    "collapsed": false,
    "jupyter": {
     "outputs_hidden": false
    },
    "pycharm": {
     "name": "#%%\n"
    }
   },
   "outputs": [],
   "source": [
    "# Relative path to the cranfield collection\n",
    "DATA_PATH = \"../data/cran/\""
   ]
  },
  {
   "cell_type": "code",
   "execution_count": 2,
   "metadata": {
    "tags": []
   },
   "outputs": [],
   "source": [
    "import re\n",
    "import pandas as pd\n",
    "\n",
    "from modules.system import RetrievalSystem\n",
    "from modules.models import DirichletLM, JelinekMercerLM"
   ]
  },
  {
   "cell_type": "markdown",
   "metadata": {},
   "source": [
    "# Parsing the Document Collection\n",
    "\n",
    "The first step is to parse the document collection, given in the `cran.all.1400` and encompassing 1400 documents. Each document is characterized by a `document ID`, a `title`, an `author`, a `bibliographical reference` and its `text`. Since the data is originally from the 60s, the file format is quite arcane. Therefore, as a first task, write a parset to translate the 1400 document each into a dictionary that can be used by python.\n",
    "\n",
    "**Exercise**: parse the document collection from the `cran.all.1400` file."
   ]
  },
  {
   "cell_type": "code",
   "execution_count": 3,
   "metadata": {
    "pycharm": {
     "name": "#%%\n"
    },
    "tags": []
   },
   "outputs": [
    {
     "ename": "IndentationError",
     "evalue": "expected an indented block (<ipython-input-3-50a3863ccae4>, line 2)",
     "output_type": "error",
     "traceback": [
      "\u001b[0;36m  File \u001b[0;32m\"<ipython-input-3-50a3863ccae4>\"\u001b[0;36m, line \u001b[0;32m2\u001b[0m\n\u001b[0;31m    # Your code here\u001b[0m\n\u001b[0m                    ^\u001b[0m\n\u001b[0;31mIndentationError\u001b[0m\u001b[0;31m:\u001b[0m expected an indented block\n"
     ]
    }
   ],
   "source": [
    "with open(DATA_PATH+\"cran.all.1400\", \"r\") as file:\n",
    "    # Your code here"
   ]
  },
  {
   "cell_type": "markdown",
   "metadata": {},
   "source": [
    "Now, transform it such that it fits the `[(id, text), ...]` corpus format you already know from the shakespeare corpus.\n",
    "\n",
    "**Exercise**: transform the document to the standardized corpus data structure."
   ]
  },
  {
   "cell_type": "code",
   "execution_count": null,
   "metadata": {},
   "outputs": [],
   "source": [
    "# Your code here"
   ]
  },
  {
   "cell_type": "markdown",
   "metadata": {},
   "source": [
    "## Creating a Retrieval System\n",
    "\n",
    "Next, we have to create different retrieval systems that we want to compare. For this exercise, we will compare the models from last week: DirichletLM and JelinkeMercerLM, to see how much of a difference Dirichlet smoothing really brings. However, feel free to also include other retrieval models, such as TF-IDF, or more parameter configurations of the aforementioned.\n",
    "\n",
    "The three python files distributed alongside this exercise contain an optimized implementation of the index and models, as well as a `RetrievalSystem` wrapper class to easily create different retrieval systems. You can of course also use your own implementations. Be aware though, that parsing all queries might take a long time!"
   ]
  },
  {
   "cell_type": "markdown",
   "metadata": {},
   "source": [
    "**Exercise**: create a Dirichlet retrieval system."
   ]
  },
  {
   "cell_type": "code",
   "execution_count": null,
   "metadata": {
    "collapsed": false,
    "jupyter": {
     "outputs_hidden": false
    },
    "pycharm": {
     "name": "#%%\n"
    }
   },
   "outputs": [],
   "source": [
    "# Your code here"
   ]
  },
  {
   "cell_type": "markdown",
   "metadata": {},
   "source": [
    "**Exercise**: create a Jelinek-Mercer retrieval system."
   ]
  },
  {
   "cell_type": "code",
   "execution_count": null,
   "metadata": {},
   "outputs": [],
   "source": [
    "# Your code here"
   ]
  },
  {
   "cell_type": "markdown",
   "metadata": {},
   "source": [
    "## Parsing Queries\n",
    "\n",
    "Now that our retrieval systems each indexed the data and are ready to receive queries, we need a set of representative topics to test them on. The file `cran.qry` includes a set of topics, each characterized by a number (topic ID) and query (text to be entered into the system. The file format is similar to the document collection file. Parse into a python data structure!\n",
    "\n",
    "**Exercise**: parse the query set from the `cran.qry` file.\n",
    "\n"
   ]
  },
  {
   "cell_type": "code",
   "execution_count": null,
   "metadata": {
    "collapsed": false,
    "jupyter": {
     "outputs_hidden": false
    },
    "pycharm": {
     "name": "#%%\n"
    }
   },
   "outputs": [],
   "source": [
    "with open(DATA_PATH+\"cran.qry\", \"r\") as file:\n",
    "    # Your code here"
   ]
  },
  {
   "cell_type": "markdown",
   "metadata": {},
   "source": [
    "## Creating a Run\n",
    "\n",
    "A \"run\" is the retrieval result of a system on a pre-defined set of documents and queries. By creating runs for different parameter configurations or systems on the same collection and query set, comparative evaluation becomes possible. Runs are created and saved in so-called \"run files\", a plain-text format denoting a retrieval result.\n",
    "\n",
    "Run files follow a standardized format: a csv-like file with the following columns, separated by a space character.\n",
    "\n",
    "`qid Q0 doc rank score tag`\n",
    "\n",
    "The meaning of each column is:\n",
    "\n",
    "> `qid`: The topic number.\n",
    "\n",
    "> `Q0`: Unused, should always be \"Q0\".\n",
    "\n",
    "> `doc`: The document ID (the official args.me ID) returned by your system for the topic qid.\n",
    "\n",
    "> `rank`: The rank the document is retrieved at.\n",
    "\n",
    "> `score`: The score (integer or floating point) that generated the ranking. The score must be in descending (non-increasing) order: it is important to handle tie scores.\n",
    "\n",
    "> `tag`: A tag that uniquely identifies the run.\n",
    "\n",
    "The fields should be separated by a whitespace. The individual columns' widths are not restricted (i.e., score can be an arbitrary precision that has no ties) but it is important to include all columns and to separate them with a whitespace. Note that the file does not include a column name header.\n",
    "\n",
    "An example run file could contain the following:\n",
    "\n",
    "    1 Q0 Sf9294c83-Af186e851 1 17.89 MyRetrievalMethod\n",
    "    1 Q0 Sf9294c83-A9a4e056e 2 16.43 MyRetrievalMethod\n",
    "    1 Q0 S96f2396e-Aaf079b43 3 16.42 MyRetrievalMethod\n",
    "    ...\n",
    "    \n",
    "**Exercise**: conduct a run for each of the retrieval systems created above. Save each result to its own runfile, using the file format described above."
   ]
  },
  {
   "cell_type": "code",
   "execution_count": null,
   "metadata": {},
   "outputs": [],
   "source": [
    "# Run only 20 queries for now. You can expand this number (there are over 200 topics in the Cranfield collection), \n",
    "# but it might take a long time to run\n",
    "num_queries = 20"
   ]
  },
  {
   "cell_type": "code",
   "execution_count": null,
   "metadata": {
    "pycharm": {
     "name": "#%%\n"
    },
    "tags": []
   },
   "outputs": [],
   "source": [
    "# Run for the DirichletLM system\n",
    "# Your code here"
   ]
  },
  {
   "cell_type": "code",
   "execution_count": null,
   "metadata": {
    "pycharm": {
     "name": "#%%\n"
    },
    "tags": []
   },
   "outputs": [],
   "source": [
    "# Run for the JelinekMercerLM system\n",
    "# Your code here"
   ]
  },
  {
   "cell_type": "markdown",
   "metadata": {},
   "source": [
    "## Parsing Relevance Judgements\n",
    "\n",
    "To evaluate the retrieval performance of a run, we need ground truth data, i.e. human judgement labels that indicate the \"true\" relevancy of the documents each system deemed relevant. For the Cranfield collection, judgements are available in the `cranqrel` file. Here, each line containes the following information: `topic id`, `document id` and annotated `relevance`.\n",
    "\n",
    "*Note*: the process of how relevance judgements are compiled is also interesting, but too complex for the scope of this exercise. You can read more about it in the lecture slides.\n",
    "\n",
    "**Exercise**: parse the `cranqrel` file into a python data structure."
   ]
  },
  {
   "cell_type": "code",
   "execution_count": null,
   "metadata": {
    "collapsed": false,
    "jupyter": {
     "outputs_hidden": false
    },
    "pycharm": {
     "name": "#%%\n"
    }
   },
   "outputs": [],
   "source": [
    "with open(DATA_PATH+\"cranqrel\", \"r\") as file:\n",
    "    # Your code here"
   ]
  },
  {
   "cell_type": "markdown",
   "metadata": {},
   "source": [
    "Since the 60s, the file format for relevance judgements was also standardized (thankfully). To make the Cranfield judgements parseable for the evaluation library we will rely on in the next step, it needs to follow that format. It is similar to the run file format, with the following columns:\n",
    "\n",
    "`qid 0 doc rel`\n",
    "\n",
    "The meaning of each column is:\n",
    "\n",
    "> `qid`: The topic number.\n",
    "\n",
    "> `0`: Unused, always 0.\n",
    "\n",
    "> `doc`: The document ID.\n",
    "\n",
    "> `rel`: The relevance judgment, a numerical value that denotes how relevant a human deemed this document to the topic.\n",
    "\n",
    "The fields should be separated by a whitespace. Note that the file does not include a column name header.\n",
    "\n",
    "**Exercise**: save the parsed relevance judgements in the standardized file format."
   ]
  },
  {
   "cell_type": "code",
   "execution_count": null,
   "metadata": {},
   "outputs": [],
   "source": [
    "# Your code here"
   ]
  },
  {
   "cell_type": "markdown",
   "metadata": {},
   "source": [
    "## Evaluating Results\n",
    "\n",
    "We now have all the components we need to evaluate system performance. We will rely on the Normalized  Discounted  CumulativeGain (nDCG) measure. It is computed on the ranked list of documents included in a run file and is formalized as follows:\n",
    "\n",
    "$$nDCG@k = \\frac{DCG@k}{IDCG@k}$$\n",
    "\n",
    "$DCG@k$ corresponds to the Discounted cumulative gain at rank $k$, given by the following formula:\n",
    "\n",
    "$$DCG@k = \\sum_{i=1}^k\\frac{2^{r(d_i)}-1}{log_2(1+i)}$$\n",
    "\n",
    "Here, $r(d_i)$ is there relevance of the document at rank $i$. The IDCG@k is the maximum obtainable DCG at rank $k$, i.e. the DCG you would achieve if documents were ordered descending by their relevance, instead of the order given to them by the retrieval system.\n",
    "\n",
    "Feel free to implement the measure yourself. However, you can also rely on the excellent [`trectools` package](https://github.com/joaopalotti/trectools) which can read run files, relevance judgment files, and compute nDCG for you.\n",
    "\n",
    "**Exercise**: evaluate both tested system using either your own nDCG implementation with the given relevance judgements, or use the `trectools` package."
   ]
  },
  {
   "cell_type": "code",
   "execution_count": null,
   "metadata": {},
   "outputs": [],
   "source": [
    "import trectools\n",
    "\n",
    "# Your code here"
   ]
  }
 ],
 "metadata": {
  "kernelspec": {
   "display_name": "Python 3",
   "language": "python",
   "name": "python3"
  },
  "language_info": {
   "codemirror_mode": {
    "name": "ipython",
    "version": 3
   },
   "file_extension": ".py",
   "mimetype": "text/x-python",
   "name": "python",
   "nbconvert_exporter": "python",
   "pygments_lexer": "ipython3",
   "version": "3.9.5"
  }
 },
 "nbformat": 4,
 "nbformat_minor": 4
}
