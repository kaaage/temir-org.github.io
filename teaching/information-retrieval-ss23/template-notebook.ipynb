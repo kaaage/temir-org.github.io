{
 "cells": [
  {
   "cell_type": "markdown",
   "id": "742adba1-54cd-47b6-b445-d82cb2250c64",
   "metadata": {},
   "source": [
    "# Template Notebook for Milestones\n",
    "\n",
    "In this notebook you will write your code, producing the required output for each Milestone.\n",
    "\n",
    "Your notebook must contain 3 types of cells:\n",
    "\n",
    "- (1) Code cells: Cells that contain code snippets, capturing one cohesive fragment of your code.\n",
    "- (2) Corresponding explanation cells: Each code cell must be followed by a text cell containing the **english** explanation of what the corresponding code cell does and what it's purpose is\n",
    "- (3) One reflection cell: One cell at the bottom of the notebook that contains your individual reflection on your process working on this milestones in **english**. It could contain technical problems and how you overcame them, it could contain social problems and how you deal with them (group work is hard!), it could contain explanations of prior skills or knowledge that made certain parts of the task easier for you, etc... (those are just suggestions. Your individual reflections will of course contain different/additional aspects)"
   ]
  },
  {
   "cell_type": "code",
   "execution_count": 2,
   "id": "25fa832d-c0ed-41dd-b4a9-68580c1ae974",
   "metadata": {},
   "outputs": [
    {
     "name": "stdout",
     "output_type": "stream",
     "text": [
      "This is an example code cell. Write your first code snippet here.\n"
     ]
    }
   ],
   "source": [
    "# Example Code cell\n",
    "\n",
    "print('This is an example code cell. Write your first code snippet here.')"
   ]
  },
  {
   "cell_type": "markdown",
   "id": "0440f20e-3c64-44c3-8537-f5065f792f8a",
   "metadata": {},
   "source": [
    "### Example Explanation cell\n",
    "\n",
    "The above cell prints a sentence in order to give an impression of what might be done with such a cell. This cell here explains it."
   ]
  },
  {
   "cell_type": "code",
   "execution_count": 3,
   "id": "c0ab4a36-0f0b-46d2-99a4-56e792f70bbc",
   "metadata": {},
   "outputs": [],
   "source": [
    "# add more code cells"
   ]
  },
  {
   "cell_type": "markdown",
   "id": "e4bcc247-ee10-4db4-ac59-876377b5ce9c",
   "metadata": {},
   "source": [
    "### Add More Explanation cells"
   ]
  },
  {
   "cell_type": "markdown",
   "id": "b1f614e3-7fe6-4d84-9f25-47fc9b341ccb",
   "metadata": {},
   "source": [
    "### Example Reflection Cell\n",
    "\n",
    "Working on this notebook was difficult, because it is not the real notebook but just an example. My experience in writing notebooks helped speed up the process, for example knowing that there are different types of cells. However, it was difficult to figure our what to write exactly in order to make sure the students understand what they are supposed to do as I could not test it before giving it to the students."
   ]
  },
  {
   "cell_type": "code",
   "execution_count": null,
   "id": "29d9c7e9-8228-4f4f-b942-d460a35eee31",
   "metadata": {},
   "outputs": [],
   "source": []
  }
 ],
 "metadata": {
  "kernelspec": {
   "display_name": "Python 3 (ipykernel)",
   "language": "python",
   "name": "python3"
  },
  "language_info": {
   "codemirror_mode": {
    "name": "ipython",
    "version": 3
   },
   "file_extension": ".py",
   "mimetype": "text/x-python",
   "name": "python",
   "nbconvert_exporter": "python",
   "pygments_lexer": "ipython3",
   "version": "3.9.12"
  }
 },
 "nbformat": 4,
 "nbformat_minor": 5
}
