{
 "cells": [
  {
   "cell_type": "markdown",
   "source": [
    "# Foundations of Machine Learning - Session 04\n",
    "\n",
    "- *Course*: Foundations of Machine Learning\n",
    "- *Session*: 04\n",
    "- *Unit*: Bayes Classifier\n",
    "\n",
    "This notebook develops a Naive Bayes classifier in Numpy."
   ],
   "metadata": {
    "collapsed": false
   }
  },
  {
   "cell_type": "code",
   "execution_count": 1,
   "outputs": [],
   "source": [
    "import numpy as np"
   ],
   "metadata": {
    "collapsed": false
   }
  },
  {
   "cell_type": "markdown",
   "source": [
    "## Data\n",
    "\n",
    "For this notebooks' classifiction task, we will utilize text data for the first time. The code block below is pre-filled to load the Twenty Newsgroups dataset, which comprises newsgroups posts on 20 topics. One is displayed below for reference.\n",
    "\n",
    "To make the text data machine-readable, we transform each post into a vector of token counts. The dataset is thus transformed into a matrix of size `(n_samples, n_terms)` where `n_samples` is the number of posts and `n_terms` is the size of the vocabulary. Each row of the matrix is a feature vector, and each cell $(i,j)$ denotes how often term $j$ occurs in document $i$."
   ],
   "metadata": {
    "collapsed": false
   }
  },
  {
   "cell_type": "code",
   "execution_count": 2,
   "outputs": [
    {
     "name": "stdout",
     "output_type": "stream",
     "text": [
      "---------- rec.autos ----------\n",
      "I was wondering if anyone out there could enlighten me on this car I saw\n",
      "the other day. It was a 2-door sports car, looked to be from the late 60s/\n",
      "early 70s. It was called a Bricklin. The doors were really small. In addition,\n",
      "the front bumper was separate from the rest of the body. This is \n",
      "all I know. If anyone can tellme a model name, engine specs, years\n",
      "of production, where this car is made, history, or whatever info you\n",
      "have on this funky looking car, please e-mail.\n"
     ]
    }
   ],
   "source": [
    "from sklearn.datasets import fetch_20newsgroups\n",
    "from sklearn.feature_extraction.text import CountVectorizer\n",
    "\n",
    "data = fetch_20newsgroups(remove=[\"headers\", \"footers\", \"quotes\"])\n",
    "\n",
    "# CountVectorizer represents each text as vector of token counts\n",
    "vectorizer = CountVectorizer(max_features=2**15)\n",
    "\n",
    "# Assemble D\n",
    "D = list(zip(\n",
    "\tvectorizer.fit_transform(data.data).toarray(),\n",
    "\tdata.target\n",
    "))\n",
    "\n",
    "print(\"-\"*10, data.target_names[data.target[0]], \"-\"*10)\n",
    "print(data.data[0])"
   ],
   "metadata": {
    "collapsed": false
   }
  },
  {
   "cell_type": "markdown",
   "source": [
    "Another new concept compared to the last week is train/test splits. To make sure that the classifier generalizes well, we want to test its performance on data it has never encountered before. Therefore, we reserve some data for testing, and only use a subset for training.\n",
    "\n",
    "**Exercise**: split $D$ into two random subsets, a training set $D_\\text{train}$ which contains 80% of the data and a test set $D_\\text{test}$ which contains 20% of the data."
   ],
   "metadata": {
    "collapsed": false
   }
  },
  {
   "cell_type": "code",
   "execution_count": 3,
   "outputs": [],
   "source": [
    "# Shuffle D\n",
    "np.random.shuffle(D)\n",
    "\n",
    "# 80:20 split into train and test set\n",
    "D_train = D[:int(len(D) * 0.8)]\n",
    "D_test = D[int(len(D) * 0.8):]"
   ],
   "metadata": {
    "collapsed": false
   }
  },
  {
   "cell_type": "markdown",
   "source": [
    "## Naive Bayes Classification\n",
    "\n",
    "Recall the definition of the naive bayes classifier from lecture slide [ML:VII-84]():\n",
    "$$\n",
    "\\begin{aligned}\n",
    "P(A_i \\mid B_1,...,B_p) &= \\frac{P(A_i) \\cdot P(B_1, ..., B_p \\mid A_i)}{P(B_1, ..., B_p)} \\\\\n",
    "\t\t\t\t\t\t&= \\frac{P(A_i)\\cdot\\prod^{p}_{j=1} P(B_j  \\mid A_i)}{\\sum^{k}_{i=1}P(A_i)\\cdot\\prod^{p}_{j=1} P(B_j\\mid A_i)}\n",
    "\\end{aligned}\n",
    "$$\n",
    "\n",
    "Here, $P(A_i)$ is the prior probability of class $A_i$, and $P(B_j\\mid A_i)$ is the posterior probability of feature $B_j$ given $A_i$. To build a bayes classifier, we first have to infer both of these probabilities from the training data."
   ],
   "metadata": {
    "collapsed": false
   }
  },
  {
   "cell_type": "markdown",
   "source": [
    "## Estimating Prior Probabilities\n",
    "\n",
    "**Exercise**: compute the prior probability for every class in the dataset."
   ],
   "metadata": {
    "collapsed": false
   }
  },
  {
   "cell_type": "code",
   "execution_count": 4,
   "outputs": [
    {
     "data": {
      "text/plain": "array([0.04386256, 0.05137554, 0.05270136, 0.05380621, 0.05159651,\n       0.05292233, 0.05225942, 0.05281184, 0.05259087, 0.0523699 ,\n       0.05192796, 0.05126505, 0.05270136, 0.05281184, 0.05248039,\n       0.05170699, 0.04706662, 0.04960778, 0.04143189, 0.03270357])"
     },
     "execution_count": 4,
     "metadata": {},
     "output_type": "execute_result"
    }
   ],
   "source": [
    "def priors(D):\n",
    "\t\"\"\"\n",
    "\tComputes the prior probabilities P(A_i) from D.\n",
    "\n",
    "\t:param D:  training dataset to estimate prior probabilities from\n",
    "\t:return:  one-dimensional array of size (n_classes) where each cell denotes the prior probability P(A_i) of class A_i\n",
    "\t\"\"\"\n",
    "\tclass_names, counts  = np.unique(np.array([x[1] for x in D]), return_counts=True)\n",
    "\treturn np.array(counts / counts.sum())\n",
    "\n",
    "priors(D_train)"
   ],
   "metadata": {
    "collapsed": false
   }
  },
  {
   "cell_type": "markdown",
   "source": [
    "## Estimating Posterior Probabilities\n",
    "\n",
    "**Exercise**: compute the posterior probabilities for every feature/class combination in the dataset."
   ],
   "metadata": {
    "collapsed": false
   }
  },
  {
   "cell_type": "code",
   "execution_count": 5,
   "outputs": [
    {
     "data": {
      "text/plain": "array([[0.00000000e+00, 2.02133957e-04, 0.00000000e+00, ...,\n        0.00000000e+00, 0.00000000e+00, 0.00000000e+00],\n       [3.36374156e-04, 1.34549662e-04, 0.00000000e+00, ...,\n        0.00000000e+00, 2.69099325e-05, 0.00000000e+00],\n       [9.77605843e-05, 2.09486966e-05, 0.00000000e+00, ...,\n        7.68118877e-05, 0.00000000e+00, 1.25692180e-04],\n       ...,\n       [3.85388632e-05, 7.38661545e-04, 6.42314387e-06, ...,\n        0.00000000e+00, 0.00000000e+00, 0.00000000e+00],\n       [1.32119096e-04, 4.62416836e-04, 0.00000000e+00, ...,\n        0.00000000e+00, 0.00000000e+00, 0.00000000e+00],\n       [1.63810897e-05, 1.14667628e-04, 0.00000000e+00, ...,\n        0.00000000e+00, 0.00000000e+00, 0.00000000e+00]])"
     },
     "execution_count": 5,
     "metadata": {},
     "output_type": "execute_result"
    }
   ],
   "source": [
    "def posteriors(D):\n",
    "\t\"\"\"\n",
    "\tComputes the posterior probabilities P(A_i | B_j) for all classes A_i and all features B_j\n",
    "\n",
    "\t:param D: Dataset to estimate probabilities from\n",
    "\t:return: two-dimensional array of size (n_classes, n_features) where cell (i, j) denotes P(A_i | B_j)\n",
    "\t\"\"\"\n",
    "\t# Infer Classes from D\n",
    "\tclasses = np.array([x[1] for x in D])\n",
    "\t# Assemble feature matrix from D for more efficient lookup\n",
    "\tfeature_matrix = np.array([x[0] for x in D])\n",
    "\n",
    "\t# Number of classes\n",
    "\tn_classes = np.unique(classes).shape[0]\n",
    "\t# Number of features\n",
    "\tn_features = feature_matrix.shape[1]\n",
    "\n",
    "\t# Empty array to hold posterior probabilities\n",
    "\tposterior_prob = np.zeros(shape=(n_classes, n_features))\n",
    "\n",
    "\tfor i in range(n_classes):\n",
    "\t\tposterior_prob[i] = feature_matrix[classes == i].sum(axis=0)\n",
    "\n",
    "\treturn posterior_prob / posterior_prob.sum(axis=1).reshape(-1, 1)\n",
    "\n",
    "posteriors(D_train)"
   ],
   "metadata": {
    "collapsed": false
   }
  },
  {
   "cell_type": "markdown",
   "source": [
    "## Assembling the classifier\n",
    "\n",
    "Given both prior and posterior probabilities, we can implement the bayes classifier using the formula given previously. However, one problem might occur: if a term never occurs in a class ($P(B_j | A_i) = 0$, no matter what other features occur in a sample, the class prediction will always be 0. Therefore, we add a small value $\\alpha$ to every probability to avoid multiplying by 0.\n",
    "\n",
    "**Exercise**: implement a Bayes classifier following the formula from the lecture.\n",
    "\n",
    "*Hint*: add $\\alpha$ to the prior and posterior probabilities to increase robustness."
   ],
   "metadata": {
    "collapsed": false
   }
  },
  {
   "cell_type": "code",
   "execution_count": 6,
   "outputs": [
    {
     "data": {
      "text/plain": "array([[0., 0., 0., ..., 0., 0., 0.],\n       [0., 0., 0., ..., 0., 0., 0.],\n       [0., 0., 0., ..., 0., 0., 0.],\n       ...,\n       [0., 0., 0., ..., 0., 0., 0.],\n       [0., 0., 0., ..., 0., 0., 0.],\n       [0., 0., 0., ..., 0., 0., 0.]])"
     },
     "execution_count": 6,
     "metadata": {},
     "output_type": "execute_result"
    }
   ],
   "source": [
    "def predict(D, priors, posteriors, alpha=1e-6, return_probs=False):\n",
    "\t\"\"\"\n",
    "\tPredicts classes for test dataset D.\n",
    "\n",
    "\t:param D: test dataset to predict classes for\n",
    "\t:param priors: prior probabilities from the train dataset\n",
    "\t:param posteriors: posterior probabilities from the test dataset\n",
    "\t:param alpha: alpha-value to add to the probability inputs\n",
    "\t:param return_probs: whether to return raw probabilities (True) or just the most likely class label (False)\n",
    "\t:return: if returning raw probabilities, returns array of size (n_samples, n_classes) where each cell denotes the class probability for that sample; if returning class labels, returns array of size (n_samples), where each cell is the most likely class of that sample\n",
    "\t\"\"\"\n",
    "\tn_classes = posteriors.shape[0]\n",
    "\tn_samples = len(D)\n",
    "\tpredictions = np.zeros(shape=(n_samples, n_classes))\n",
    "\t# Adding alpha to deal with terms that never occur for a class\n",
    "\t# Otherwise, documents containing that term could never be assigned that class (product reduces to 0)!\n",
    "\tpriors = priors + alpha\n",
    "\tposteriors = posteriors + alpha\n",
    "\n",
    "\tfor i, (x, c) in enumerate(D):\n",
    "\t\tterm_mask = x.astype(bool)\n",
    "\t\tpredictions[i] = np.prod(posteriors[:, term_mask] + alpha, axis=1) * priors\n",
    "\t\tprob_sum = predictions[i].sum()\n",
    "\t\tpredictions *= prob_sum\n",
    "\n",
    "\tif return_probs:\n",
    "\t\treturn predictions\n",
    "\telse:\n",
    "\t\treturn np.argmax(predictions, axis=1)\n",
    "\n",
    "\n",
    "predict(D_test, priors(D_train), posteriors(D_train), return_probs=True)\n"
   ],
   "metadata": {
    "collapsed": false
   }
  },
  {
   "cell_type": "markdown",
   "source": [
    "Investigate the output of the classifier for $D_\\text{test}$."
   ],
   "metadata": {
    "collapsed": false
   }
  },
  {
   "cell_type": "markdown",
   "source": [
    "## Rebuilding the classifier in log space\n",
    "\n",
    "In the previous step, we can observe that almost every prediction equals 0! This is due to our naive implementation: since we multiply many probabilities, the value eventually underflows, i.e. is smaller than the smallest float64-representable number. Thus, there is no discernible difference to 0 anymore.\n",
    "\n",
    "The solution is implement our classifier using [log probabilities](https://en.wikipedia.org/wiki/Log_probability) instead. Simply transform the probabilities to log space and replace mathematical operations in your implementation using the log-space equivalents. For convenience, `log_add` is implemented below. If you are new to log probabilities, give the linked resources a read."
   ],
   "metadata": {
    "collapsed": false
   }
  },
  {
   "cell_type": "code",
   "execution_count": 7,
   "outputs": [],
   "source": [
    "def log_add(a, b):\n",
    "\t# Addition in log space, see https://en.wikipedia.org/wiki/Log_probability#Addition_in_log_space for derivation of formula\n",
    "\treturn a + np.log1p(np.exp(b-a))"
   ],
   "metadata": {
    "collapsed": false
   }
  },
  {
   "cell_type": "markdown",
   "source": [
    "**Exercise**: adapt your `predict` implementation to log-space.\n",
    "\n",
    "*Hint*:\n",
    "- `reduce` might come in handy when constructing sums of log-probability arrays.\n",
    "- do not forget to cast back the final predictions to real space using `np.exp`"
   ],
   "metadata": {
    "collapsed": false
   }
  },
  {
   "cell_type": "code",
   "execution_count": 8,
   "outputs": [
    {
     "name": "stderr",
     "output_type": "stream",
     "text": [
      "/var/folders/54/8lplw84d1sbgcm1wmd2rgyd40000gn/T/ipykernel_69087/1836505824.py:3: RuntimeWarning: overflow encountered in exp\n",
      "  return a + np.log1p(np.exp(b-a))\n"
     ]
    }
   ],
   "source": [
    "from functools import reduce\n",
    "\n",
    "def predict_log(X, priors, posteriors, alpha=1e-6):\n",
    "\t\"\"\"\n",
    "\tPredicts classes for test dataset D in log space.\n",
    "\n",
    "\t:param D: test dataset to predict classes for\n",
    "\t:param priors: prior probabilities from the train dataset\n",
    "\t:param posteriors: posterior probabilities from the test dataset\n",
    "\t:param alpha: alpha-value to add to the probability inputs\n",
    "\t:param return_probs: whether to return raw probabilities (True) or just the most likely class label (False)\n",
    "\t:return: if returning raw probabilities, returns array of size (n_samples, n_classes) where each cell denotes the class probability for that sample; if returning class labels, returns array of size (n_samples), where each cell is the most likely class of that sample\n",
    "\t\"\"\"\n",
    "\tn_classes = posteriors.shape[0]\n",
    "\tn_samples = X.shape[0]\n",
    "\tpredictions = np.zeros(shape=(n_samples, n_classes))\n",
    "\n",
    "\t# Cast priors and posteriors to log space to avoid underflow\n",
    "\t# Adding alpha to deal with terms that never occur for a class\n",
    "\tpriors = np.log(priors + alpha)\n",
    "\tposteriors = np.log(posteriors + alpha)\n",
    "\n",
    "\tfor i, x in enumerate(X):\n",
    "\t\t# Construct term mask to only deal with observed terms\n",
    "\t\tterm_mask = x.astype(bool)\n",
    "\t\t# Sum instead of multiplying since we are in log space!\n",
    "\t\tpredictions[i] = np.sum(posteriors[:, term_mask], axis=1) + priors\n",
    "\t\t# log_add instead of + since we are in log space!\n",
    "\t\tlog_prob_sum = reduce(log_add, predictions[i, :])\n",
    "\t\t# Minus instead of / since we are in log space!\n",
    "\t\tpredictions[i] -= log_prob_sum\n",
    "\t# Cast back to real space and return\n",
    "\treturn np.exp(predictions)\n",
    "\n",
    "\n",
    "p = predict_log(np.array([x[0] for x in D_test]), priors(D_train), posteriors(D_train))"
   ],
   "metadata": {
    "collapsed": false
   }
  },
  {
   "cell_type": "markdown",
   "source": [
    "## Evaluation\n",
    "\n",
    "**Exercise**: evaluate your classifier by comparing the predicted labels to the ground-truth labels of $D_\\text{test}$.\n",
    "\n",
    "*Hint*: you can either use your own evaluation implementation from a previous lab, or use the `sklearn` metric implementations."
   ],
   "metadata": {
    "collapsed": false
   }
  },
  {
   "cell_type": "markdown",
   "source": [],
   "metadata": {
    "collapsed": false
   }
  },
  {
   "cell_type": "code",
   "execution_count": 9,
   "outputs": [
    {
     "name": "stdout",
     "output_type": "stream",
     "text": [
      "              precision    recall  f1-score   support\n",
      "\n",
      "           0       0.71      0.51      0.59       116\n",
      "           1       0.67      0.58      0.62       139\n",
      "           2       0.01      1.00      0.02         1\n",
      "           3       0.78      0.36      0.49       222\n",
      "           4       0.81      0.69      0.74       131\n",
      "           5       0.75      0.73      0.74       117\n",
      "           6       0.72      0.79      0.76       102\n",
      "           7       0.75      0.67      0.71       130\n",
      "           8       0.74      0.73      0.73       123\n",
      "           9       0.82      0.91      0.86       111\n",
      "          10       0.81      0.96      0.88       109\n",
      "          11       0.70      0.85      0.77       108\n",
      "          12       0.64      0.72      0.68       102\n",
      "          13       0.85      0.90      0.88       110\n",
      "          14       0.71      0.82      0.76       103\n",
      "          15       0.79      0.73      0.76       143\n",
      "          16       0.78      0.76      0.77       123\n",
      "          17       0.83      0.80      0.82       120\n",
      "          18       0.59      0.52      0.55       101\n",
      "          19       0.33      0.52      0.41        52\n",
      "\n",
      "    accuracy                           0.70      2263\n",
      "   macro avg       0.69      0.73      0.68      2263\n",
      "weighted avg       0.74      0.70      0.71      2263\n",
      "\n"
     ]
    }
   ],
   "source": [
    "from sklearn.metrics import classification_report\n",
    "\n",
    "print(classification_report(p.argmax(axis=1), [d[1] for d in D_test]))"
   ],
   "metadata": {
    "collapsed": false
   }
  }
 ],
 "metadata": {
  "kernelspec": {
   "display_name": "Python 3",
   "language": "python",
   "name": "python3"
  },
  "language_info": {
   "codemirror_mode": {
    "name": "ipython",
    "version": 2
   },
   "file_extension": ".py",
   "mimetype": "text/x-python",
   "name": "python",
   "nbconvert_exporter": "python",
   "pygments_lexer": "ipython2",
   "version": "2.7.6"
  }
 },
 "nbformat": 4,
 "nbformat_minor": 0
}
