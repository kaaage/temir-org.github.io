{
 "cells": [
  {
   "cell_type": "markdown",
   "id": "90749bee",
   "metadata": {},
   "source": [
    "# Zipf"
   ]
  },
  {
   "cell_type": "markdown",
   "id": "24be01d8",
   "metadata": {},
   "source": [
    "# A1.  Zipf’sches Gesetz - Understanding\n",
    "\n",
    "\n",
    "Rate the following statement as true or false and briefly justify your decision! \n",
    "\n",
    "\n",
    " 1. If you plot the ranks and frequencies of words from a corpus in a coordinate system, you get a straight line according to Zipf's law.\n",
    "\n",
    " 2. From Zipf's law follows that the number of different word forms (types) in a text is proportional to its length.  \n",
    "\n",
    " 3.  If one plots the curves to Zipf's law for several corpora of a language in a double logarithmic coordinate system, one obtains approximately parallel curves.\n",
    "\n",
    " 4. The constant c is different for different languages.\n"
   ]
  },
  {
   "cell_type": "markdown",
   "id": "c1531e82",
   "metadata": {},
   "source": [
    "### Solution:\n",
    "\n",
    "1. Almost : The Zipf law will show a linear relation in the a log-log plot! It's a powerlaw in regular coordinates.\n",
    "2. Yes it does. Since many words only occurr once in the text it is likely to gain more types the longer the text, $t \\sim c N$. But also: Heap's law describes this relation specifically.\n",
    "3. Yes in loglog world the the constant c corresponts to the intercept of the linear representation\n",
    "4. Yes, c is language dependent.(Mostly connected to type-token-ratio)"
   ]
  },
  {
   "cell_type": "markdown",
   "id": "258c5780",
   "metadata": {},
   "source": [
    "# A2. The long tail of the distribution\n",
    "\n",
    "From the lecture: It holds $w_n$ - the number of types that occurr $n$ times in a given corpus - fullfills the equation $$ w_n = r_n – r_{n+1} $$\n",
    "    \n",
    " \n",
    "How many words will likely occur only once in any given text? Deduce a formula."
   ]
  },
  {
   "cell_type": "markdown",
   "id": "d3e53913",
   "metadata": {},
   "source": [
    "### Solution\n",
    "\n",
    "$$ w_n = r_n - r_{n+1} = c \\frac{N}{n} - c \\frac{N}{n+1} = \\frac{cN}{n(n+1)}$$\n",
    "Now $n=1$ and $cN = |V|$\n",
    "$$w_1 = \\frac{|V|}{2}$$\n",
    "\n",
    "It is to be expected that half the words in the vocabulary only occur once !"
   ]
  },
  {
   "cell_type": "markdown",
   "id": "68ae01d3",
   "metadata": {},
   "source": [
    "# A3. Application of Zipf's Law\n",
    "Given the following data from an english corpus with a total number of 71.370 words (tokens):\n",
    "\n",
    "|  Word  | Frequency | Rank |\n",
    "|-------|-----------|------|\n",
    "| he    | 877       | 10   |\n",
    "| but   | 410       | 20   |\n",
    "| comes | 16        | 500  |\n",
    "| applausive | 1    | 8000 |\n",
    "\n",
    "\n",
    "\n",
    "(a) Estimate Zipf's constant from this data.\n",
    "\n",
    "(b) From that estimation derive:\n",
    "    \n",
    "    - What will be the number of different word forms (types)? \n",
    "    - How many of them will appear only once in the text? \n",
    "    - Related to the total number of tokens: How high will be the share of word forms that occur only once in the text?\n",
    "    \n",
    " (c) After estimation, assume that `applausive` is the lowest ranked word. Calulate the Zipf constant mathematically by using the Harmonic Series.\n",
    " \n",
    " (d) What is the difference of the two methods to obtain $c$?"
   ]
  },
  {
   "cell_type": "markdown",
   "id": "b71bb308",
   "metadata": {},
   "source": [
    "\n",
    "|  Word  | Frequency | rank | f*r|\n",
    "|-------|-----------|------|------|\n",
    "| he    | 877       | 10   | 8770 |\n",
    "| but   | 410       | 20   | 8200 |\n",
    "| comes | 16        | 500  | 8000 |\n",
    "| applausive | 1    | 8000 | 8000 |\n",
    "\n",
    " a) (8770 + 8200 + 8000 + 8000) / 4 / 71370 = 0.11548970155527533\n",
    " b)\n",
    "   -  ~ 8242 (= $N * c$)\n",
    "   -  ~ 4121 ( $w_1 = \\frac{|V|}{2} = \\frac{t}{2}$)\n",
    "   -  ~ 5.7 % (= $\\frac{\\frac{t}{2}}{N}$)\n",
    "\n",
    " c) harmonic series:\n",
    "$$ c = \\frac{1}{\\sum_{i=1}^{8000}{\\frac{1}{i}}} $$\n",
    "\n",
    " d) \n",
    "   - statistical vs arithmetic approximation\n",
    "   - harmonic series only dependent on vocabulary size\n"
   ]
  },
  {
   "cell_type": "code",
   "execution_count": 1,
   "id": "6b7c7033",
   "metadata": {},
   "outputs": [
    {
     "data": {
      "text/plain": [
       "0.104554935949181"
      ]
     },
     "execution_count": 1,
     "metadata": {},
     "output_type": "execute_result"
    }
   ],
   "source": [
    "# harmonic series\n",
    "1/sum([1/i for i in range(1,8000)])"
   ]
  },
  {
   "cell_type": "markdown",
   "id": "8b111c7d",
   "metadata": {},
   "source": [
    "# A4. - Further Application of Zipf’s Law\n",
    "From the lecture:$r(n_w=x)$ gives the largest rank of all word forms that occur $x$ times in the corpus.\n",
    "The number of types that probably occur exactly $n$ times in a given corpus $w_n$ fulfills the equation $$ w_n = r_n – r_{n+1} $$\n",
    "\n",
    "a) Deduce a formula to generalize this result to calculate the number of words that probably occur $n$ to $m$ times in a corpus.\n",
    "\n",
    "Given a text corpus of German with 1 million sentences and 16 015 429 tokens. (Assume c=0.08)\n",
    "\n",
    "(b) How large is the vocabulary according to Zipf's law?\n",
    "    \n",
    "(c) How many words occur 100 times or more in this text according to Zipf's law?\n",
    "\n",
    "(d) According to Zipf's law, how many words occur exactly 100 times in this text?\n"
   ]
  },
  {
   "cell_type": "markdown",
   "id": "313911de",
   "metadata": {},
   "source": [
    "### Solution:\n",
    "a) $$ w_{n, m} = r_n - r_{m+1} | n\\leq m $$\n",
    "   $$= \\sum_{n}^{m} r_n - r_{n+1} = (\\frac{cN}{n} - \\frac{cN}{n+1}) + (\\frac{cN}{n+1} - \\frac{cN}{n+1+1}) + \\dots + (\\frac{cN}{m} - \\frac{cN}{m+1})$$\n",
    "   $$=\\frac{cN}{n} + (- \\frac{cN}{n+1} + \\frac{cN}{n+1} + \\dots) - \\frac{cN}{m+1}$$\n",
    "   $$=  \\frac{cN}{n} - \\frac{cN}{m+1} $$\n",
    "   $$= cN \\left(\\frac{1}{n}-\\frac{1}{m+1}\\right) $$\n",
    "   $$= cN\\left(\\frac{m-n+1}{n(m+1)}\\right)$$\n",
    "Assume: \n",
    "   $$ n = 100; m = 150$$\n",
    "   $$ 0.08 \\cdot 16015429 \\left(\\frac{150-100+1}{100(150+1)}\\right)$$\n",
    "   $$ = 1281234 \\left(\\frac{51}{15100}\\right)$$\n",
    "   $$ = 4327 $$\n",
    "\n",
    "b) $$ |V| = cN = 0.08 \\cdot 16015429 = 1281234 $$ \n",
    "\n",
    "c) $$ r_n = c \\frac{N}{100} = 12812$$\n",
    "\n",
    "d) $$ r_{100} - r_{101} = \\frac{cN}{n(n+1)} = 127 $$\n"
   ]
  },
  {
   "cell_type": "markdown",
   "id": "339ecacc",
   "metadata": {},
   "source": [
    "# Programming\n",
    "\n",
    "We can use some of the corpora to empirically verify the Zipf assumptions. \n",
    "\n",
    "Use the complete books corpus as English corpus.\n",
    "\n",
    "As German Corpus we will upload a corpus of news articles from Tagesschau.\n",
    "\n",
    "If you are interested in other resources or other languages see [here](https://wortschatz.uni-leipzig.de/en/download/)"
   ]
  },
  {
   "cell_type": "code",
   "execution_count": 2,
   "id": "97669b87",
   "metadata": {},
   "outputs": [],
   "source": [
    "import matplotlib.pyplot as plt\n",
    "import nltk\n",
    "import pathlib"
   ]
  },
  {
   "cell_type": "code",
   "execution_count": 3,
   "id": "dbcc78c1",
   "metadata": {},
   "outputs": [],
   "source": [
    "def load_german_text(path):\n",
    "    text = []\n",
    "    for f in pathlib.Path(path).glob(\"*.txt\"):\n",
    "        with open(f, \"r\") as openf:\n",
    "            text += nltk.word_tokenize(openf.read(), language='german')\n",
    "    return text"
   ]
  },
  {
   "cell_type": "code",
   "execution_count": 4,
   "id": "a3ad3ec2",
   "metadata": {},
   "outputs": [
    {
     "name": "stdout",
     "output_type": "stream",
     "text": [
      "CPU times: user 32.7 s, sys: 348 ms, total: 33 s\n",
      "Wall time: 33.1 s\n"
     ]
    }
   ],
   "source": [
    "%%time\n",
    "english_text = nltk.corpus.gutenberg.words(nltk.corpus.gutenberg.fileids())\n",
    "german_text = load_german_text(\"tagesschau_corpus/\")"
   ]
  },
  {
   "cell_type": "code",
   "execution_count": 5,
   "id": "ec11fdad",
   "metadata": {},
   "outputs": [
    {
     "name": "stdout",
     "output_type": "stream",
     "text": [
      "Number of token (English):2621613\n",
      "Number of token (German):5031721\n"
     ]
    }
   ],
   "source": [
    "english_freq = nltk.FreqDist(english_text)\n",
    "print(f\"Number of token (English):{sum(english_freq.values())}\")\n",
    "\n",
    "german_freq = nltk.FreqDist(german_text)\n",
    "print(f\"Number of token (German):{sum(german_freq.values())}\")"
   ]
  },
  {
   "cell_type": "markdown",
   "id": "2b221c9f",
   "metadata": {},
   "source": [
    "## P1 - The Zipf Constant\n",
    "\n",
    "Write two functions that each return the zipf constant.\n",
    "\n",
    "    a) Try to estimate the Zipf constant by using empirical frequencies and ranks from the data. (Restrict to rank 10 to 10000.\n",
    "    b) Calculate the Zipf constant by using the Harmonic Series.\n",
    "\n",
    "What happens?"
   ]
  },
  {
   "cell_type": "code",
   "execution_count": 6,
   "id": "c577f918",
   "metadata": {},
   "outputs": [],
   "source": [
    "def estimate_c(freq):\n",
    "    # Sort the frequencies of the words\n",
    "    sorted_freqs = sorted(freq.values(), reverse=True)\n",
    "    # the sum of all frequencies equals the number of tokens in the corpus\n",
    "    N = sum(sorted_freqs)\n",
    "    # Multiply every value of freq with its rank divided by the number of tokens\n",
    "    zipf = [rank*freq / N for rank, freq in enumerate(sorted_freqs, 1)]\n",
    "    # Use only the ranks 10:10000 for estimation\n",
    "    r10to10000 = zipf[10:10000]\n",
    "    # Average \n",
    "    c = sum(r10to10000) / len(r10to10000)\n",
    "    return c\n",
    "\n",
    "def calculate_c(freq):\n",
    "    return 1/sum([1/i for i in range(1,len(freq))])"
   ]
  },
  {
   "cell_type": "markdown",
   "id": "07727bd6",
   "metadata": {},
   "source": [
    "Esimate the Zipf constant for the two corpora:"
   ]
  },
  {
   "cell_type": "code",
   "execution_count": 7,
   "id": "f04366aa",
   "metadata": {},
   "outputs": [
    {
     "data": {
      "text/plain": [
       "(0.082060132764375, 0.06143058090935221)"
      ]
     },
     "execution_count": 7,
     "metadata": {},
     "output_type": "execute_result"
    }
   ],
   "source": [
    "estimate_c(german_freq),estimate_c(english_freq)"
   ]
  },
  {
   "cell_type": "markdown",
   "id": "54174dda",
   "metadata": {},
   "source": [
    "Compare to the harmonic approximation of the zipf constant"
   ]
  },
  {
   "cell_type": "code",
   "execution_count": 8,
   "id": "e4cbe5ab",
   "metadata": {},
   "outputs": [
    {
     "data": {
      "text/plain": [
       "(0.0794215145767777, 0.087566893771156)"
      ]
     },
     "execution_count": 8,
     "metadata": {},
     "output_type": "execute_result"
    }
   ],
   "source": [
    "calculate_c(german_freq),calculate_c(english_freq)"
   ]
  },
  {
   "cell_type": "code",
   "execution_count": 9,
   "id": "59e03d3a",
   "metadata": {},
   "outputs": [
    {
     "data": {
      "text/plain": [
       "<matplotlib.legend.Legend at 0x7f739311caf0>"
      ]
     },
     "execution_count": 9,
     "metadata": {},
     "output_type": "execute_result"
    },
    {
     "data": {
      "image/png": "[encoded data removed]",
      "text/plain": [
       "<Figure size 432x288 with 1 Axes>"
      ]
     },
     "metadata": {
      "needs_background": "light"
     },
     "output_type": "display_data"
    }
   ],
   "source": [
    "plt.scatter(range(len(english_freq)),sorted(english_freq.values(), reverse=True), label=\"english\", s=1)\n",
    "plt.scatter(range(len(german_freq)),sorted(german_freq.values(), reverse=True), label=\"german\", s=1)\n",
    "plt.yscale('log')\n",
    "plt.xscale('log')\n",
    "plt.legend()"
   ]
  },
  {
   "cell_type": "markdown",
   "id": "7bfd2ca7",
   "metadata": {},
   "source": [
    "## P2 - Words Occuring Once\n",
    "\n",
    "We predict that half of the vocabularies in real corpora only occur once. Write a function that confirms the prediction."
   ]
  },
  {
   "cell_type": "code",
   "execution_count": 10,
   "id": "e3dfe7b1",
   "metadata": {},
   "outputs": [],
   "source": [
    "def occur_once(freq):\n",
    "    w_1 = len([x for x in freq.values() if x == 1])\n",
    "    return w_1 / len(freq)"
   ]
  },
  {
   "cell_type": "code",
   "execution_count": 11,
   "id": "7db2b89c",
   "metadata": {},
   "outputs": [
    {
     "data": {
      "text/plain": [
       "(0.4876077129110058, 0.40437094377981075)"
      ]
     },
     "execution_count": 11,
     "metadata": {},
     "output_type": "execute_result"
    }
   ],
   "source": [
    "occur_once(german_freq), occur_once(english_freq)"
   ]
  },
  {
   "cell_type": "markdown",
   "id": "6d688fd9",
   "metadata": {},
   "source": [
    "# P3  - Text Coverage\n",
    "\n",
    "The Zipf power law follows similar patterns to the Pareto law (see [here](https://en.wikipedia.org/wiki/Pareto_principle#:~:text=The%20Pareto%20principle%20states%20that,the%20principle%20of%20factor%20sparsity.)).\n",
    "\n",
    "Not only does a large percentage of words only occur once, also very few words already cover high percentages of any written text.\n",
    "\n",
    "Calculate the text coverage in dependence of rank.\n",
    "\n",
    "Plot the results.\n",
    "\n",
    "What percentage of all words in the vocabulary are needed to cover 80 % of the text corpus ?"
   ]
  },
  {
   "cell_type": "code",
   "execution_count": 12,
   "id": "76ff9499",
   "metadata": {},
   "outputs": [],
   "source": [
    "def accumulated(freq, t = 0.8):\n",
    "    # Sort the frequencies in descending order\n",
    "    sorted_freqs = sorted(freq.values(), reverse=True)\n",
    "    # the sum of all frequencies equals the number of tokens in the corpus\n",
    "    N = sum(sorted_freqs)\n",
    "    # Track the percentage of the corpus that can be explained by the words so far\n",
    "    # So far: Zero words, so 0 percent of the corpus can be explained.\n",
    "    # (This does help the iteration to get started)\n",
    "    p = [0.]\n",
    "    # Iterate every word in the vocabulary\n",
    "    for i in range(len(sorted_freqs)):\n",
    "        # Add the proportion of tokens that are explained by the i'th word \n",
    "        # in the vocabulary to the last value in the list\n",
    "        p.append(p[-1] + sorted_freqs[i]/N)\n",
    "    # Remove the first value\n",
    "    p = p[1:]\n",
    "    # Now scan the list for index at which the threshold is crossed.\n",
    "    for i in range(len(p)):\n",
    "        if p[i]>t:\n",
    "            break\n",
    "    return p[1:], i"
   ]
  },
  {
   "cell_type": "code",
   "execution_count": 13,
   "id": "c7a76bdb",
   "metadata": {},
   "outputs": [],
   "source": [
    "english_acc, english_i = accumulated(english_freq, t=0.8)\n",
    "german_acc, german_i = accumulated(german_freq, t=0.8)"
   ]
  },
  {
   "cell_type": "code",
   "execution_count": 14,
   "id": "2d0b7789",
   "metadata": {},
   "outputs": [
    {
     "data": {
      "text/plain": [
       "<matplotlib.legend.Legend at 0x7f7391872970>"
      ]
     },
     "execution_count": 14,
     "metadata": {},
     "output_type": "execute_result"
    },
    {
     "data": {
      "image/png": "[encoded data removed]",
      "text/plain": [
       "<Figure size 432x288 with 1 Axes>"
      ]
     },
     "metadata": {
      "needs_background": "light"
     },
     "output_type": "display_data"
    }
   ],
   "source": [
    "plt.plot(german_acc, label=\"german\")\n",
    "plt.plot(english_acc, label=\"english\")\n",
    "plt.legend()"
   ]
  },
  {
   "cell_type": "markdown",
   "id": "bc3886db",
   "metadata": {},
   "source": [
    "Print the number of words for the german and for the english corpus that make up 80% of the corpus' text:"
   ]
  },
  {
   "cell_type": "code",
   "execution_count": 15,
   "id": "e1fd8ed2",
   "metadata": {},
   "outputs": [
    {
     "data": {
      "text/plain": [
       "(3264, 876)"
      ]
     },
     "execution_count": 15,
     "metadata": {},
     "output_type": "execute_result"
    }
   ],
   "source": [
    "german_i, english_i"
   ]
  },
  {
   "cell_type": "code",
   "execution_count": 16,
   "id": "6860b02c",
   "metadata": {},
   "outputs": [
    {
     "data": {
      "text/plain": [
       "(0.01977918095769049, 0.01712409101571663)"
      ]
     },
     "execution_count": 16,
     "metadata": {},
     "output_type": "execute_result"
    }
   ],
   "source": [
    "german_i / len(german_freq), english_i / len(english_freq)"
   ]
  },
  {
   "cell_type": "markdown",
   "id": "1976fc17",
   "metadata": {},
   "source": [
    "# P3 - Ngrams\n",
    "\n",
    "\n",
    "The Zipf law is a special case of a power law. These hold for many other natural occurring things aswell.\n",
    "\n",
    "Verify a similar relation for character ngrams. \n",
    "(Not a mathematical proof. Convince yourself by plotting or looking at the rank/frequency product.)\n",
    "\n",
    "(Reuse above code if possible!)\n"
   ]
  },
  {
   "cell_type": "code",
   "execution_count": 17,
   "id": "8c10cced",
   "metadata": {},
   "outputs": [],
   "source": [
    "def get_ngrams_dist(text, n=3):\n",
    "    # Get frequency dict for all occurring ngrams\n",
    "    ngrams = nltk.FreqDist([gram for word in text for gram in nltk.ngrams(word,n)])\n",
    "    return ngrams"
   ]
  },
  {
   "cell_type": "markdown",
   "id": "f9485c1f",
   "metadata": {},
   "source": [
    "Now we can apply the functions defined above to the frequency dict of ngrams:"
   ]
  },
  {
   "cell_type": "code",
   "execution_count": 18,
   "id": "bf992189",
   "metadata": {},
   "outputs": [
    {
     "name": "stdout",
     "output_type": "stream",
     "text": [
      "Number of ngrams (English):4743589\n",
      "Number of ngrams (German):17604522\n"
     ]
    }
   ],
   "source": [
    "english_ngram_freq = get_ngrams_dist(english_text)\n",
    "print(f\"Number of ngrams (English):{sum(english_ngram_freq.values())}\")\n",
    "\n",
    "german_ngram_freq = get_ngrams_dist(german_text)\n",
    "print(f\"Number of ngrams (German):{sum(german_ngram_freq.values())}\")"
   ]
  },
  {
   "cell_type": "code",
   "execution_count": 19,
   "id": "8a78fbb8",
   "metadata": {
    "scrolled": true
   },
   "outputs": [
    {
     "data": {
      "text/plain": [
       "(0.07230468413186686, 0.0524681979966785)"
      ]
     },
     "execution_count": 19,
     "metadata": {},
     "output_type": "execute_result"
    }
   ],
   "source": [
    "estimate_c(german_ngram_freq),estimate_c(english_ngram_freq)"
   ]
  },
  {
   "cell_type": "code",
   "execution_count": 20,
   "id": "e3e13ffb",
   "metadata": {},
   "outputs": [
    {
     "data": {
      "text/plain": [
       "(0.09333327834540893, 0.1015712468267529)"
      ]
     },
     "execution_count": 20,
     "metadata": {},
     "output_type": "execute_result"
    }
   ],
   "source": [
    "calculate_c(german_ngram_freq),calculate_c(english_ngram_freq)"
   ]
  },
  {
   "cell_type": "code",
   "execution_count": 21,
   "id": "b07b7c43",
   "metadata": {},
   "outputs": [
    {
     "data": {
      "text/plain": [
       "<matplotlib.legend.Legend at 0x7f7393110880>"
      ]
     },
     "execution_count": 21,
     "metadata": {},
     "output_type": "execute_result"
    },
    {
     "data": {
      "image/png": "[encoded data removed]",
      "text/plain": [
       "<Figure size 432x288 with 1 Axes>"
      ]
     },
     "metadata": {
      "needs_background": "light"
     },
     "output_type": "display_data"
    }
   ],
   "source": [
    "plt.scatter(range(len(english_ngram_freq)),sorted(english_ngram_freq.values(), reverse=True), s=2, label=\"english\")\n",
    "plt.scatter(range(len(german_ngram_freq)),sorted(german_ngram_freq.values(), reverse=True), s=2, label=\"german\")\n",
    "plt.xscale(\"log\")\n",
    "plt.yscale(\"log\")\n",
    "\n",
    "plt.legend()"
   ]
  },
  {
   "cell_type": "markdown",
   "id": "387e2f19",
   "metadata": {},
   "source": [
    "## How many ngrams cover 80% of the text ? \n",
    "\n",
    "How many of the top frequent ngrams would you need to cover 80% of the text.\n",
    "\n",
    "How much do these top ngrams overlap for German and English?\n"
   ]
  },
  {
   "cell_type": "code",
   "execution_count": 22,
   "id": "132c4b3d",
   "metadata": {},
   "outputs": [],
   "source": [
    "german_ngram_acc, german_ngram_i = accumulated(german_ngram_freq, t=0.8)\n",
    "english_ngram_acc, english_ngram_i = accumulated(english_ngram_freq, t=0.8)"
   ]
  },
  {
   "cell_type": "code",
   "execution_count": 23,
   "id": "a77ceb60",
   "metadata": {},
   "outputs": [
    {
     "data": {
      "text/plain": [
       "<matplotlib.legend.Legend at 0x7f73844d7d90>"
      ]
     },
     "execution_count": 23,
     "metadata": {},
     "output_type": "execute_result"
    },
    {
     "data": {
      "image/png": "[encoded data removed]",
      "text/plain": [
       "<Figure size 432x288 with 1 Axes>"
      ]
     },
     "metadata": {
      "needs_background": "light"
     },
     "output_type": "display_data"
    }
   ],
   "source": [
    "plt.plot(german_ngram_acc, label=\"german\")\n",
    "plt.plot(english_ngram_acc, label=\"english\")\n",
    "plt.legend()"
   ]
  },
  {
   "cell_type": "code",
   "execution_count": 24,
   "id": "d06ec6bb",
   "metadata": {},
   "outputs": [
    {
     "data": {
      "text/plain": [
       "(1107, 834)"
      ]
     },
     "execution_count": 24,
     "metadata": {},
     "output_type": "execute_result"
    }
   ],
   "source": [
    "german_ngram_i, english_ngram_i"
   ]
  },
  {
   "cell_type": "markdown",
   "id": "bc2b7d44",
   "metadata": {},
   "source": [
    "So we need around 1000 ngrams to explain the  roughly 80% of the text. Now calculating how many ngrams in these sets overlap between these two languages:"
   ]
  },
  {
   "cell_type": "code",
   "execution_count": 45,
   "id": "49f2c99f",
   "metadata": {},
   "outputs": [
    {
     "data": {
      "text/plain": [
       "0.24533001245330013"
      ]
     },
     "execution_count": 45,
     "metadata": {},
     "output_type": "execute_result"
    }
   ],
   "source": [
    "def overlap(f1, f2, k):\n",
    "    s1 = set([x[0] for x in f1.most_common(k)])\n",
    "    s2 = set([x[0] for x in f2.most_common(k)])\n",
    "    l = len(s1 | s2)\n",
    "    if l == 0:\n",
    "        return l\n",
    "    return len(s1.intersection(s2)) / l\n",
    "\n",
    "overlap(german_ngram_freq, english_ngram_freq, 1000)"
   ]
  },
  {
   "cell_type": "markdown",
   "id": "4c13f5ee",
   "metadata": {},
   "source": [
    "## You can use this information in the Application Task in Notebook `Language Detection`. ( You can also go for 90% or 95% text coverage)"
   ]
  },
  {
   "cell_type": "markdown",
   "id": "376fd9c2",
   "metadata": {},
   "source": [
    "While we only need around 1000 ngrams of each language to cover around 80%  of the text, only 25 % of these sets of ngrams overlap. We should be able to use these small sets to detect the language of any text. \n",
    "Given that 75 % of these ngrams differ, these sets should be discriminative.\n",
    " "
   ]
  }
 ],
 "metadata": {
  "kernelspec": {
   "display_name": "Python 3 (ipykernel)",
   "language": "python",
   "name": "python3"
  },
  "language_info": {
   "codemirror_mode": {
    "name": "ipython",
    "version": 3
   },
   "file_extension": ".py",
   "mimetype": "text/x-python",
   "name": "python",
   "nbconvert_exporter": "python",
   "pygments_lexer": "ipython3",
   "version": "3.10.14"
  }
 },
 "nbformat": 4,
 "nbformat_minor": 5
}
