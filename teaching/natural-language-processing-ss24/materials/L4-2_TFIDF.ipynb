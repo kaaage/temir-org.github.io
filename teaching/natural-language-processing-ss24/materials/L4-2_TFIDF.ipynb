{
 "cells": [
  {
   "cell_type": "markdown",
   "id": "4c672af5",
   "metadata": {},
   "source": [
    "# TF-IDF Exercise"
   ]
  },
  {
   "cell_type": "markdown",
   "id": "265f27c6",
   "metadata": {},
   "source": [
    "You have the following (tokenized) document collection:\n",
    "\n",
    "|id | words|\n",
    "|---|------|\n",
    "| 1 | like, like, fruit, fly, fly|\n",
    "| 2 | bee, wasp, like|\n",
    "| 3 | fruit, fly|\n",
    "| 4 | bee, wasp, fruit|\n",
    "| 5| fruit, fruit, fruit, fly|"
   ]
  },
  {
   "cell_type": "markdown",
   "id": "57881105",
   "metadata": {},
   "source": [
    "1. Determine the Document Term Matrix.\n",
    "\n",
    "2. Calculate all the tf-idf values.\n",
    "\n",
    "Use max-normalization, such that the most frequent term of every document has relative term frequency 1.\n",
    "(Equivalent to k-normalization from the lecture with $K=0$). \n",
    "\n",
    "Use the natural logarithm for calculation."
   ]
  },
  {
   "cell_type": "code",
   "execution_count": null,
   "id": "4c39a6f3",
   "metadata": {},
   "outputs": [],
   "source": []
  },
  {
   "cell_type": "markdown",
   "id": "21b21b0b",
   "metadata": {},
   "source": [
    "# A2 - Application Retrieval\n",
    "\n",
    "We can use the tf-idf table to determine the similarity of two documents. Each document can be represented as the vector of its tf-idf weighted words. The cosine of the two vectors is often used to calculate a similarity measure.\n",
    "\n",
    "When for example a user searches for \"fruit fly\", you can interpret the query as a new document and translate the query into a vector corresponding to your vocabulary. Calculate the cosine similarity with every document in your corpus and  return the best match.\n",
    "\n",
    "$$ cos(\\vec{q},\\vec{d}) = \\frac{\\vec{q}\\cdot\\vec{d}}{\\lVert\\vec{q}\\rVert\\cdot\\lVert\\vec{d}\\rVert}$$\n",
    "\n",
    "\n",
    "Which document would the queries $Q_1=[fruit, fly]$ and $Q_2=[bee, fly]$ return?\n",
    "\n",
    "To generate a query vector, create a vector that has the same dimension as the vocabulary and 1 if a word occurs in the query and zero everywhere else. (One-Hot Encoding)\n",
    "\n",
    "What are limitations and problems \n",
    "of this approach?\n"
   ]
  },
  {
   "cell_type": "code",
   "execution_count": null,
   "id": "e189449d",
   "metadata": {},
   "outputs": [],
   "source": []
  }
 ],
 "metadata": {
  "kernelspec": {
   "display_name": "Python 3",
   "language": "python",
   "name": "python3"
  },
  "language_info": {
   "codemirror_mode": {
    "name": "ipython",
    "version": 3
   },
   "file_extension": ".py",
   "mimetype": "text/x-python",
   "name": "python",
   "nbconvert_exporter": "python",
   "pygments_lexer": "ipython3",
   "version": "3.8.12"
  }
 },
 "nbformat": 4,
 "nbformat_minor": 5
}
