{
 "cells": [
  {
   "cell_type": "markdown",
   "metadata": {},
   "source": [
    "# Sentiment Analysis - Creation of a Sentiment Lexicon\n",
    "\n",
    "Notebook for slides.\n",
    "\n",
    "Shows how to load data, preprocess it, create DTMs from text, weight words to be used for correlations and final sentiment words."
   ]
  },
  {
   "cell_type": "markdown",
   "metadata": {},
   "source": [
    "## Preparatory"
   ]
  },
  {
   "cell_type": "code",
   "execution_count": null,
   "metadata": {},
   "outputs": [],
   "source": [
    "# download data from https://ai.stanford.edu/~amaas/data/sentiment/\n",
    "! wget https://ai.stanford.edu/~amaas/data/sentiment/aclImdb_v1.tar.gz\n",
    "! tar xvfz aclImdb_v1.tar.gz"
   ]
  },
  {
   "cell_type": "code",
   "execution_count": null,
   "metadata": {
    "vscode": {
     "languageId": "shellscript"
    }
   },
   "outputs": [],
   "source": [
    "# python stuff\n",
    "%%bash\n",
    "\n",
    "# activate environment (python or conda)\n",
    "python3 -m venv venv\n",
    "source venv/bin/activate\n",
    "\n",
    "#pip install jupyter\n",
    "pip install numpy pandas scipy scikit-learn matplotlib\n",
    "pip install nltk spacy\n",
    "\n",
    "python -m spacy download en_core_web_sm\n",
    "python -m spacy download de_core_news_sm"
   ]
  },
  {
   "cell_type": "markdown",
   "metadata": {},
   "source": [
    "---"
   ]
  },
  {
   "cell_type": "code",
   "execution_count": 1,
   "metadata": {},
   "outputs": [],
   "source": [
    "import pickle\n",
    "from pathlib import Path\n",
    "\n",
    "import spacy\n",
    "import numpy as np\n",
    "import pandas as pd\n",
    "import matplotlib.pyplot as plt\n",
    "\n",
    "from tqdm import tqdm\n",
    "from sklearn.feature_extraction.text import TfidfVectorizer, CountVectorizer\n",
    "from sklearn.feature_selection import mutual_info_classif, mutual_info_regression\n",
    "# from sklearn.metrics import mutual_info_score\n",
    "from scipy.stats import entropy\n",
    "from IPython.display import display_html"
   ]
  },
  {
   "cell_type": "markdown",
   "metadata": {},
   "source": [
    "## Workflow (Data &rarr; Results)"
   ]
  },
  {
   "cell_type": "code",
   "execution_count": 2,
   "metadata": {},
   "outputs": [],
   "source": [
    "paths = [\"train/neg\", \"train/pos\"]\n",
    "datafile = Path(\"docs.p\")\n",
    "\n",
    "\n",
    "def load_contents(paths):\n",
    "    docs = dict()  # doc-id -> score + content\n",
    "\n",
    "    for path in paths:\n",
    "        for file in tqdm(Path(path).iterdir()):\n",
    "            id = file.stem\n",
    "            score = int(id.rsplit(\"_\", 1)[-1])\n",
    "            content = file.read_text()\n",
    "            docs[id] = (score, content)\n",
    "\n",
    "    print(f\"Loaded {len(docs)} files\")\n"
   ]
  },
  {
   "cell_type": "code",
   "execution_count": 3,
   "metadata": {},
   "outputs": [],
   "source": [
    "def process(nlp, content):\n",
    "    content = content.replace(\"<br />\", \"\")\n",
    "    doc = nlp(content)\n",
    "    tokens = [\n",
    "        w.text\n",
    "        for w in doc\n",
    "        if (\n",
    "            # no stopwords\n",
    "            not w.is_stop\n",
    "            # no digits\n",
    "            and w.is_alpha\n",
    "            # no spaces, punctuation, ...\n",
    "            and w.pos_ not in (\"PUNCT\", )  # ?\n",
    "            and not w.is_space\n",
    "        )\n",
    "    ]\n",
    "    doc = \" \".join(tokens)\n",
    "    return doc\n",
    "\n",
    "\n",
    "def process_docs(nlp, docs):\n",
    "    return {\n",
    "        id: (score, process(nlp, content))\n",
    "        for id, (score, content) in tqdm(docs.items())\n",
    "    }"
   ]
  },
  {
   "cell_type": "code",
   "execution_count": 4,
   "metadata": {},
   "outputs": [],
   "source": [
    "def compute_dtm(docs, tfidf=True):\n",
    "    scores, texts = zip(*docs.values())\n",
    "    if tfidf:\n",
    "        vectorizer = TfidfVectorizer(max_features=5000)  #, use_idf=False, binary=True)\n",
    "    else:\n",
    "        vectorizer = CountVectorizer()\n",
    "    mat = vectorizer.fit_transform(texts)\n",
    "\n",
    "    return mat, scores, vectorizer\n",
    "\n",
    "\n",
    "def truncate(mat, scores, cutoff = 6000):\n",
    "    scores = np.array(scores)\n",
    "    idx = np.random.permutation(np.arange(scores.shape[0]))[:cutoff]\n",
    "\n",
    "    scores = scores[idx]\n",
    "    mat = np.asarray(mat[idx].todense())\n",
    "    assert mat.shape[0] == scores.shape[0]\n",
    "\n",
    "    return mat, scores"
   ]
  },
  {
   "cell_type": "code",
   "execution_count": 5,
   "metadata": {},
   "outputs": [],
   "source": [
    "def get_best_features_both(values, labels, max_features=30):\n",
    "    # filter nan\n",
    "    mask = ~np.isnan(values)\n",
    "    labels = labels[mask]\n",
    "    values = values[mask]\n",
    "\n",
    "    # have both the highest and lowest\n",
    "    # so mask with both ends allowed, and our values+labels sorted\n",
    "    mask = np.zeros_like(values).astype(bool)\n",
    "    mask[: max_features // 2 + 1] = mask[-max_features // 2 :] = True\n",
    "    srt = np.argsort(values)[::-1]\n",
    "    labels = np.array(labels)[srt][mask]\n",
    "    values = np.array(values)[srt][mask]\n",
    "\n",
    "    # srt = np.argsort(np.abs(values))[::-1]\n",
    "    # #np.unique(mask, return_counts=True)\n",
    "    # mask_srt = mask[srt]\n",
    "    # mask_srt[max_features:] = False\n",
    "\n",
    "    # labels_srt = np.array(labels)[srt][mask_srt]\n",
    "    # values_srt = np.array(values)[srt][mask_srt]\n",
    "\n",
    "    # srt = np.argsort(values_srt)[::-1]\n",
    "    # labels = labels_srt[srt]\n",
    "    # values = values_srt[srt]\n",
    "\n",
    "    return pd.Series(values, labels)\n",
    "\n",
    "\n",
    "def get_best_features(values, labels, max_features=30):\n",
    "    # filter nan\n",
    "    mask = ~np.isnan(values)\n",
    "    labels = labels[mask]\n",
    "    values = values[mask]\n",
    "\n",
    "    srt = np.argsort(np.abs(values))[::-1]\n",
    "    mask = np.ones_like(values).astype(bool)\n",
    "    mask_srt = mask[srt]\n",
    "    mask_srt[max_features:] = False\n",
    "    labels_srt = np.array(labels)[srt][mask_srt]\n",
    "    values_srt = np.array(values)[srt][mask_srt]\n",
    "\n",
    "    srt = np.argsort(values_srt)[::-1]\n",
    "    labels = labels_srt[srt]\n",
    "    values = values_srt[srt]\n",
    "\n",
    "    return pd.Series(values, labels)\n"
   ]
  },
  {
   "cell_type": "code",
   "execution_count": 6,
   "metadata": {},
   "outputs": [],
   "source": [
    "def dump_example(docs, mat, vectorizer, corr, name=\"0_9\"):\n",
    "    print(docs[name])\n",
    "\n",
    "    row_idx = list(docs.keys()).index(name)\n",
    "    print(\"-->\", row_idx)\n",
    "    print()\n",
    "\n",
    "    df_ex1 = pd.Series(mat[row_idx], vectorizer.get_feature_names_out())\n",
    "    # print(df_ex1[df_ex1 > 0])\n",
    "\n",
    "    df_ex1 = pd.Series(\n",
    "        np.asarray((vectorizer.transform([docs[name][1]]).todense()))[0],\n",
    "        vectorizer.get_feature_names_out())\n",
    "    df_ex1 = df_ex1[df_ex1 > 0]\n",
    "    print(\", \".join(f\"{w}: {v:.3f}\" for w, v in df_ex1.to_dict().items()))\n",
    "    print()\n",
    "\n",
    "    df_se1 = pd.Series({w: corr[w] for w in df_ex1.to_dict().keys()})\n",
    "    df_se1_b = get_best_features(df_se1, df_se1.index, 20)\n",
    "    print(\", \".join(f\"{w}: {v:.3f}\" for w, v in df_se1_b.to_dict().items()))\n",
    "    print()\n",
    "    print(\"sum (sentiment):\", df_se1.sum())\n",
    "    print(\"sum (sentiment top-20):\", df_se1_b.sum())\n",
    "    print(\"sum (sentiment product tfidf):\", (df_ex1 * df_se1).sum())\n",
    "    print()\n",
    "\n",
    "    # display_html(pd.DataFrame([df_ex1]))\n",
    "    # display_html(pd.DataFrame([df_se1]))\n",
    "    # display_html(pd.DataFrame([df_ex1 * df_se1]))\n"
   ]
  },
  {
   "cell_type": "markdown",
   "metadata": {},
   "source": [
    "### Load data and preprocess"
   ]
  },
  {
   "cell_type": "code",
   "execution_count": 16,
   "metadata": {},
   "outputs": [
    {
     "name": "stdout",
     "output_type": "stream",
     "text": [
      "25000\n"
     ]
    }
   ],
   "source": [
    "# docs: doc-id -> score + content\n",
    "docs = load_contents(paths)"
   ]
  },
  {
   "cell_type": "code",
   "execution_count": 22,
   "metadata": {},
   "outputs": [
    {
     "data": {
      "text/plain": [
       "<AxesSubplot: >"
      ]
     },
     "execution_count": 22,
     "metadata": {},
     "output_type": "execute_result"
    },
    {
     "data": {
      "image/png": "[encoded data removed]",
      "text/plain": [
       "<Figure size 640x480 with 1 Axes>"
      ]
     },
     "metadata": {},
     "output_type": "display_data"
    }
   ],
   "source": [
    "pd.Series([v for v, _ in docs.values()]).hist()"
   ]
  },
  {
   "cell_type": "code",
   "execution_count": 25,
   "metadata": {},
   "outputs": [],
   "source": [
    "nlp = spacy.load(\"en_core_web_sm\")"
   ]
  },
  {
   "cell_type": "code",
   "execution_count": null,
   "metadata": {},
   "outputs": [],
   "source": [
    "for label in nlp.get_pipe(\"tagger\").labels:\n",
    "    print(label, \" -- \", spacy.explain(label))"
   ]
  },
  {
   "cell_type": "code",
   "execution_count": null,
   "metadata": {},
   "outputs": [],
   "source": [
    "# process(docs[list(docs.keys())[1]][1])\n",
    "# docs[list(docs.keys())[0]]"
   ]
  },
  {
   "cell_type": "code",
   "execution_count": 7,
   "metadata": {},
   "outputs": [],
   "source": [
    "# cache spaCy cleaning (~20min)\n",
    "\n",
    "if not datafile.exists():\n",
    "    docs = process_docs(nlp, docs)\n",
    "\n",
    "    with open(datafile, \"wb\") as fp:\n",
    "        pickle.dump(docs, fp, protocol=pickle.HIGHEST_PROTOCOL)\n",
    "\n",
    "with open(datafile, \"rb\") as fp:\n",
    "    docs = pickle.load(fp)"
   ]
  },
  {
   "cell_type": "markdown",
   "metadata": {},
   "source": [
    "### Compute DTM (+ truncate)"
   ]
  },
  {
   "cell_type": "code",
   "execution_count": 8,
   "metadata": {},
   "outputs": [
    {
     "name": "stdout",
     "output_type": "stream",
     "text": [
      "mat shape: (16000, 5000)\n",
      "features shape: (5000,)\n",
      "scores shape: (16000,)\n",
      "mat min/max: 0.0 0.9674103507850611\n"
     ]
    },
    {
     "data": {
      "image/png": "[encoded data removed]",
      "text/plain": [
       "<Figure size 640x480 with 1 Axes>"
      ]
     },
     "metadata": {},
     "output_type": "display_data"
    }
   ],
   "source": [
    "mat, scores, vectorizer = compute_dtm(docs)\n",
    "\n",
    "mat, scores = truncate(mat, scores, 16000)\n",
    "\n",
    "pd.Series(scores).hist()\n",
    "\n",
    "print(\"mat shape:\", mat.shape)\n",
    "print(\"features shape:\", vectorizer.get_feature_names_out().shape)\n",
    "print(\"scores shape:\", scores.shape)\n",
    "\n",
    "# mat[:,0].shape\n",
    "# rows --> docs (+ scores)\n",
    "# cols --> types\n",
    "\n",
    "print(\"mat min/max:\", mat.min(), mat.max())"
   ]
  },
  {
   "cell_type": "markdown",
   "metadata": {},
   "source": [
    "### Compute Correlations"
   ]
  },
  {
   "cell_type": "code",
   "execution_count": 9,
   "metadata": {},
   "outputs": [],
   "source": [
    "df_mat = pd.DataFrame(mat, columns=vectorizer.get_feature_names_out())\n",
    "df_scores = pd.Series(scores)\n",
    "\n",
    "# pearson / kendall / spearman\n",
    "corr = df_mat.corrwith(df_scores, method=\"pearson\")\n",
    "#corr2 = df_mat.corrwith(df_scores / 10, method=\"pearson\")\n",
    "corr_kt = df_mat.corrwith(df_scores, method=\"kendall\")\n",
    "corr_sr = df_mat.corrwith(df_scores, method=\"spearman\")"
   ]
  },
  {
   "cell_type": "code",
   "execution_count": 10,
   "metadata": {},
   "outputs": [
    {
     "data": {
      "text/html": [
       "<div>\n",
       "<style scoped>\n",
       "    .dataframe tbody tr th:only-of-type {\n",
       "        vertical-align: middle;\n",
       "    }\n",
       "\n",
       "    .dataframe tbody tr th {\n",
       "        vertical-align: top;\n",
       "    }\n",
       "\n",
       "    .dataframe thead th {\n",
       "        text-align: right;\n",
       "    }\n",
       "</style>\n",
       "<table border=\"1\" class=\"dataframe\">\n",
       "  <thead>\n",
       "    <tr style=\"text-align: right;\">\n",
       "      <th></th>\n",
       "      <th>pearson</th>\n",
       "      <th>kendall</th>\n",
       "      <th>spearman</th>\n",
       "    </tr>\n",
       "  </thead>\n",
       "  <tbody>\n",
       "    <tr>\n",
       "      <th>pearson</th>\n",
       "      <td>1.000000</td>\n",
       "      <td>0.987287</td>\n",
       "      <td>0.987334</td>\n",
       "    </tr>\n",
       "    <tr>\n",
       "      <th>kendall</th>\n",
       "      <td>0.987287</td>\n",
       "      <td>1.000000</td>\n",
       "      <td>0.999891</td>\n",
       "    </tr>\n",
       "    <tr>\n",
       "      <th>spearman</th>\n",
       "      <td>0.987334</td>\n",
       "      <td>0.999891</td>\n",
       "      <td>1.000000</td>\n",
       "    </tr>\n",
       "  </tbody>\n",
       "</table>\n",
       "</div>"
      ],
      "text/plain": [
       "           pearson   kendall  spearman\n",
       "pearson   1.000000  0.987287  0.987334\n",
       "kendall   0.987287  1.000000  0.999891\n",
       "spearman  0.987334  0.999891  1.000000"
      ]
     },
     "execution_count": 10,
     "metadata": {},
     "output_type": "execute_result"
    }
   ],
   "source": [
    "pd.DataFrame([corr, corr_kt, corr_sr], index=[\"pearson\", \"kendall\", \"spearman\"]).T.corr()"
   ]
  },
  {
   "cell_type": "code",
   "execution_count": 11,
   "metadata": {},
   "outputs": [],
   "source": [
    "plt.rcParams[\"figure.figsize\"]  # [6.4, 4.8]\n",
    "plt.rcParams[\"figure.figsize\"] = [3, 5]"
   ]
  },
  {
   "cell_type": "code",
   "execution_count": 12,
   "metadata": {},
   "outputs": [
    {
     "data": {
      "image/png": "[encoded data removed]",
      "text/plain": [
       "<Figure size 300x500 with 1 Axes>"
      ]
     },
     "metadata": {},
     "output_type": "display_data"
    },
    {
     "data": {
      "image/png": "[encoded data removed]",
      "text/plain": [
       "<Figure size 300x500 with 1 Axes>"
      ]
     },
     "metadata": {},
     "output_type": "display_data"
    },
    {
     "data": {
      "image/png": "[encoded data removed]",
      "text/plain": [
       "<Figure size 300x500 with 1 Axes>"
      ]
     },
     "metadata": {},
     "output_type": "display_data"
    }
   ],
   "source": [
    "# corr2 = corr / (corr.max() - corr.min()) * 2\n",
    "# scale differently between -1 / 0 / +1\n",
    "\n",
    "get_best_features_both(corr, corr.index, 30)[::-1].plot(kind=\"barh\")\n",
    "plt.title(\"Pearson (std)\")\n",
    "plt.show()\n",
    "get_best_features_both(corr_kt, corr_kt.index)[::-1].plot(kind=\"barh\")\n",
    "plt.title(\"Kendall Tau\")\n",
    "plt.show()\n",
    "get_best_features_both(corr_sr, corr_sr.index)[::-1].plot(kind=\"barh\")\n",
    "plt.title(\"Spearman rank\")\n",
    "plt.show()"
   ]
  },
  {
   "cell_type": "markdown",
   "metadata": {},
   "source": [
    "---"
   ]
  },
  {
   "cell_type": "markdown",
   "metadata": {},
   "source": [
    "### Some Examples"
   ]
  },
  {
   "cell_type": "code",
   "execution_count": 142,
   "metadata": {},
   "outputs": [
    {
     "name": "stdout",
     "output_type": "stream",
     "text": [
      "(9, 'Bromwell High cartoon comedy ran time programs school life Teachers years teaching profession lead believe Bromwell High satire closer reality Teachers scramble survive financially insightful students right pathetic teachers pomp pettiness situation remind schools knew students saw episode student repeatedly tried burn school immediately recalled High classic line INSPECTOR sack teachers STUDENT Welcome Bromwell High expect adults age think Bromwell High far fetched pity')\n",
      "--> 12765\n",
      "\n",
      "adults: 0.113, age: 0.091, believe: 0.073, burn: 0.134, cartoon: 0.111, classic: 0.081, closer: 0.125, comedy: 0.072, episode: 0.090, expect: 0.089, far: 0.070, fetched: 0.139, high: 0.384, immediately: 0.108, inspector: 0.137, knew: 0.094, lead: 0.086, life: 0.057, line: 0.080, pathetic: 0.108, pity: 0.122, ran: 0.122, reality: 0.095, remind: 0.130, repeatedly: 0.135, right: 0.068, satire: 0.123, saw: 0.068, school: 0.170, situation: 0.101, student: 0.226, students: 0.234, survive: 0.120, teachers: 0.591, teaching: 0.144, think: 0.054, time: 0.044, tried: 0.097, welcome: 0.124, years: 0.062\n",
      "\n",
      "life: 0.082, years: 0.078, classic: 0.072, reality: 0.051, age: 0.046, saw: 0.034, episode: 0.034, situation: 0.027, adults: 0.023, time: -0.016, high: -0.019, students: -0.025, line: -0.026, student: -0.031, far: -0.032, school: -0.036, burn: -0.036, believe: -0.063, tried: -0.070, pathetic: -0.108\n",
      "\n",
      "sum (sentiment): -0.004772436962048987\n",
      "sum (sentiment top-20): -0.015642118968013166\n",
      "sum (sentiment product tfidf): -0.02805857637740443\n",
      "\n"
     ]
    }
   ],
   "source": [
    "dump_example(docs, mat, vectorizer, corr, \"0_9\")\n",
    "#dump_example(docs, mat, vectorizer, corr, \"2_9\")\n",
    "#dump_example(docs, mat, vectorizer, corr, \"1_1\")"
   ]
  },
  {
   "cell_type": "markdown",
   "metadata": {},
   "source": [
    "---"
   ]
  },
  {
   "cell_type": "markdown",
   "metadata": {},
   "source": [
    "## Toy Example"
   ]
  },
  {
   "cell_type": "code",
   "execution_count": 147,
   "metadata": {},
   "outputs": [
    {
     "name": "stdout",
     "output_type": "stream",
     "text": [
      "Raw input texts\n"
     ]
    },
    {
     "data": {
      "text/html": [
       "<div>\n",
       "<style scoped>\n",
       "    .dataframe tbody tr th:only-of-type {\n",
       "        vertical-align: middle;\n",
       "    }\n",
       "\n",
       "    .dataframe tbody tr th {\n",
       "        vertical-align: top;\n",
       "    }\n",
       "\n",
       "    .dataframe thead th {\n",
       "        text-align: right;\n",
       "    }\n",
       "</style>\n",
       "<table border=\"1\" class=\"dataframe\">\n",
       "  <thead>\n",
       "    <tr style=\"text-align: right;\">\n",
       "      <th></th>\n",
       "      <th>sentiment</th>\n",
       "      <th>text</th>\n",
       "    </tr>\n",
       "  </thead>\n",
       "  <tbody>\n",
       "    <tr>\n",
       "      <th>toy1</th>\n",
       "      <td>10</td>\n",
       "      <td>Ein richtig tolles Spiel.</td>\n",
       "    </tr>\n",
       "    <tr>\n",
       "      <th>toy2</th>\n",
       "      <td>1</td>\n",
       "      <td>Ganz schlechte Leistung.</td>\n",
       "    </tr>\n",
       "    <tr>\n",
       "      <th>toy3</th>\n",
       "      <td>9</td>\n",
       "      <td>Sehr leckeres Gericht. Zu empfehlen.</td>\n",
       "    </tr>\n",
       "    <tr>\n",
       "      <th>toy4</th>\n",
       "      <td>2</td>\n",
       "      <td>Ganz schlechtes Spiel. Nicht zu empfehlen.</td>\n",
       "    </tr>\n",
       "  </tbody>\n",
       "</table>\n",
       "</div>"
      ]
     },
     "metadata": {},
     "output_type": "display_data"
    },
    {
     "name": "stderr",
     "output_type": "stream",
     "text": [
      "100%|██████████| 4/4 [00:00<00:00, 128.33it/s]"
     ]
    },
    {
     "name": "stdout",
     "output_type": "stream",
     "text": [
      "spaCy cleaned texts\n"
     ]
    },
    {
     "name": "stderr",
     "output_type": "stream",
     "text": [
      "\n"
     ]
    },
    {
     "data": {
      "text/html": [
       "<div>\n",
       "<style scoped>\n",
       "    .dataframe tbody tr th:only-of-type {\n",
       "        vertical-align: middle;\n",
       "    }\n",
       "\n",
       "    .dataframe tbody tr th {\n",
       "        vertical-align: top;\n",
       "    }\n",
       "\n",
       "    .dataframe thead th {\n",
       "        text-align: right;\n",
       "    }\n",
       "</style>\n",
       "<table border=\"1\" class=\"dataframe\">\n",
       "  <thead>\n",
       "    <tr style=\"text-align: right;\">\n",
       "      <th></th>\n",
       "      <th>sentiment</th>\n",
       "      <th>text</th>\n",
       "    </tr>\n",
       "  </thead>\n",
       "  <tbody>\n",
       "    <tr>\n",
       "      <th>toy1</th>\n",
       "      <td>10</td>\n",
       "      <td>tolles Spiel</td>\n",
       "    </tr>\n",
       "    <tr>\n",
       "      <th>toy2</th>\n",
       "      <td>1</td>\n",
       "      <td>schlechte Leistung</td>\n",
       "    </tr>\n",
       "    <tr>\n",
       "      <th>toy3</th>\n",
       "      <td>9</td>\n",
       "      <td>leckeres Gericht empfehlen</td>\n",
       "    </tr>\n",
       "    <tr>\n",
       "      <th>toy4</th>\n",
       "      <td>2</td>\n",
       "      <td>schlechtes Spiel empfehlen</td>\n",
       "    </tr>\n",
       "  </tbody>\n",
       "</table>\n",
       "</div>"
      ]
     },
     "metadata": {},
     "output_type": "display_data"
    },
    {
     "name": "stdout",
     "output_type": "stream",
     "text": [
      "DTM (TF/counts) with scores\n"
     ]
    },
    {
     "data": {
      "text/html": [
       "<div>\n",
       "<style scoped>\n",
       "    .dataframe tbody tr th:only-of-type {\n",
       "        vertical-align: middle;\n",
       "    }\n",
       "\n",
       "    .dataframe tbody tr th {\n",
       "        vertical-align: top;\n",
       "    }\n",
       "\n",
       "    .dataframe thead th {\n",
       "        text-align: right;\n",
       "    }\n",
       "</style>\n",
       "<table border=\"1\" class=\"dataframe\">\n",
       "  <thead>\n",
       "    <tr style=\"text-align: right;\">\n",
       "      <th></th>\n",
       "      <th>empfehlen</th>\n",
       "      <th>gericht</th>\n",
       "      <th>leckeres</th>\n",
       "      <th>leistung</th>\n",
       "      <th>schlechte</th>\n",
       "      <th>schlechtes</th>\n",
       "      <th>spiel</th>\n",
       "      <th>tolles</th>\n",
       "      <th>sentiment</th>\n",
       "    </tr>\n",
       "  </thead>\n",
       "  <tbody>\n",
       "    <tr>\n",
       "      <th>0</th>\n",
       "      <td>0</td>\n",
       "      <td>0</td>\n",
       "      <td>0</td>\n",
       "      <td>0</td>\n",
       "      <td>0</td>\n",
       "      <td>0</td>\n",
       "      <td>1</td>\n",
       "      <td>1</td>\n",
       "      <td>10</td>\n",
       "    </tr>\n",
       "    <tr>\n",
       "      <th>1</th>\n",
       "      <td>0</td>\n",
       "      <td>0</td>\n",
       "      <td>0</td>\n",
       "      <td>1</td>\n",
       "      <td>1</td>\n",
       "      <td>0</td>\n",
       "      <td>0</td>\n",
       "      <td>0</td>\n",
       "      <td>1</td>\n",
       "    </tr>\n",
       "    <tr>\n",
       "      <th>2</th>\n",
       "      <td>1</td>\n",
       "      <td>1</td>\n",
       "      <td>1</td>\n",
       "      <td>0</td>\n",
       "      <td>0</td>\n",
       "      <td>0</td>\n",
       "      <td>0</td>\n",
       "      <td>0</td>\n",
       "      <td>9</td>\n",
       "    </tr>\n",
       "    <tr>\n",
       "      <th>3</th>\n",
       "      <td>1</td>\n",
       "      <td>0</td>\n",
       "      <td>0</td>\n",
       "      <td>0</td>\n",
       "      <td>0</td>\n",
       "      <td>1</td>\n",
       "      <td>1</td>\n",
       "      <td>0</td>\n",
       "      <td>2</td>\n",
       "    </tr>\n",
       "  </tbody>\n",
       "</table>\n",
       "</div>"
      ]
     },
     "metadata": {},
     "output_type": "display_data"
    },
    {
     "name": "stdout",
     "output_type": "stream",
     "text": [
      "DTM (TF-IDF) with scores\n"
     ]
    },
    {
     "data": {
      "text/html": [
       "<div>\n",
       "<style scoped>\n",
       "    .dataframe tbody tr th:only-of-type {\n",
       "        vertical-align: middle;\n",
       "    }\n",
       "\n",
       "    .dataframe tbody tr th {\n",
       "        vertical-align: top;\n",
       "    }\n",
       "\n",
       "    .dataframe thead th {\n",
       "        text-align: right;\n",
       "    }\n",
       "</style>\n",
       "<table border=\"1\" class=\"dataframe\">\n",
       "  <thead>\n",
       "    <tr style=\"text-align: right;\">\n",
       "      <th></th>\n",
       "      <th>empfehlen</th>\n",
       "      <th>gericht</th>\n",
       "      <th>leckeres</th>\n",
       "      <th>leistung</th>\n",
       "      <th>schlechte</th>\n",
       "      <th>schlechtes</th>\n",
       "      <th>spiel</th>\n",
       "      <th>tolles</th>\n",
       "    </tr>\n",
       "  </thead>\n",
       "  <tbody>\n",
       "    <tr>\n",
       "      <th>0</th>\n",
       "      <td>0.00</td>\n",
       "      <td>0.00</td>\n",
       "      <td>0.00</td>\n",
       "      <td>0.00</td>\n",
       "      <td>0.00</td>\n",
       "      <td>0.00</td>\n",
       "      <td>0.62</td>\n",
       "      <td>0.79</td>\n",
       "    </tr>\n",
       "    <tr>\n",
       "      <th>1</th>\n",
       "      <td>0.00</td>\n",
       "      <td>0.00</td>\n",
       "      <td>0.00</td>\n",
       "      <td>0.71</td>\n",
       "      <td>0.71</td>\n",
       "      <td>0.00</td>\n",
       "      <td>0.00</td>\n",
       "      <td>0.00</td>\n",
       "    </tr>\n",
       "    <tr>\n",
       "      <th>2</th>\n",
       "      <td>0.49</td>\n",
       "      <td>0.62</td>\n",
       "      <td>0.62</td>\n",
       "      <td>0.00</td>\n",
       "      <td>0.00</td>\n",
       "      <td>0.00</td>\n",
       "      <td>0.00</td>\n",
       "      <td>0.00</td>\n",
       "    </tr>\n",
       "    <tr>\n",
       "      <th>3</th>\n",
       "      <td>0.53</td>\n",
       "      <td>0.00</td>\n",
       "      <td>0.00</td>\n",
       "      <td>0.00</td>\n",
       "      <td>0.00</td>\n",
       "      <td>0.67</td>\n",
       "      <td>0.53</td>\n",
       "      <td>0.00</td>\n",
       "    </tr>\n",
       "  </tbody>\n",
       "</table>\n",
       "</div>"
      ]
     },
     "metadata": {},
     "output_type": "display_data"
    },
    {
     "data": {
      "text/html": [
       "<div>\n",
       "<style scoped>\n",
       "    .dataframe tbody tr th:only-of-type {\n",
       "        vertical-align: middle;\n",
       "    }\n",
       "\n",
       "    .dataframe tbody tr th {\n",
       "        vertical-align: top;\n",
       "    }\n",
       "\n",
       "    .dataframe thead th {\n",
       "        text-align: right;\n",
       "    }\n",
       "</style>\n",
       "<table border=\"1\" class=\"dataframe\">\n",
       "  <thead>\n",
       "    <tr style=\"text-align: right;\">\n",
       "      <th></th>\n",
       "      <th>empfehlen</th>\n",
       "      <th>gericht</th>\n",
       "      <th>leckeres</th>\n",
       "      <th>leistung</th>\n",
       "      <th>schlechte</th>\n",
       "      <th>schlechtes</th>\n",
       "      <th>spiel</th>\n",
       "      <th>tolles</th>\n",
       "      <th>sentiment</th>\n",
       "    </tr>\n",
       "  </thead>\n",
       "  <tbody>\n",
       "    <tr>\n",
       "      <th>0</th>\n",
       "      <td>0.00</td>\n",
       "      <td>0.00</td>\n",
       "      <td>0.00</td>\n",
       "      <td>0.00</td>\n",
       "      <td>0.00</td>\n",
       "      <td>0.00</td>\n",
       "      <td>0.62</td>\n",
       "      <td>0.79</td>\n",
       "      <td>10</td>\n",
       "    </tr>\n",
       "    <tr>\n",
       "      <th>1</th>\n",
       "      <td>0.00</td>\n",
       "      <td>0.00</td>\n",
       "      <td>0.00</td>\n",
       "      <td>0.71</td>\n",
       "      <td>0.71</td>\n",
       "      <td>0.00</td>\n",
       "      <td>0.00</td>\n",
       "      <td>0.00</td>\n",
       "      <td>1</td>\n",
       "    </tr>\n",
       "    <tr>\n",
       "      <th>2</th>\n",
       "      <td>0.49</td>\n",
       "      <td>0.62</td>\n",
       "      <td>0.62</td>\n",
       "      <td>0.00</td>\n",
       "      <td>0.00</td>\n",
       "      <td>0.00</td>\n",
       "      <td>0.00</td>\n",
       "      <td>0.00</td>\n",
       "      <td>9</td>\n",
       "    </tr>\n",
       "    <tr>\n",
       "      <th>3</th>\n",
       "      <td>0.53</td>\n",
       "      <td>0.00</td>\n",
       "      <td>0.00</td>\n",
       "      <td>0.00</td>\n",
       "      <td>0.00</td>\n",
       "      <td>0.67</td>\n",
       "      <td>0.53</td>\n",
       "      <td>0.00</td>\n",
       "      <td>2</td>\n",
       "    </tr>\n",
       "  </tbody>\n",
       "</table>\n",
       "</div>"
      ]
     },
     "metadata": {},
     "output_type": "display_data"
    },
    {
     "name": "stdout",
     "output_type": "stream",
     "text": [
      "Correlations\n"
     ]
    },
    {
     "data": {
      "text/html": [
       "<div>\n",
       "<style scoped>\n",
       "    .dataframe tbody tr th:only-of-type {\n",
       "        vertical-align: middle;\n",
       "    }\n",
       "\n",
       "    .dataframe tbody tr th {\n",
       "        vertical-align: top;\n",
       "    }\n",
       "\n",
       "    .dataframe thead th {\n",
       "        text-align: right;\n",
       "    }\n",
       "</style>\n",
       "<table border=\"1\" class=\"dataframe\">\n",
       "  <thead>\n",
       "    <tr style=\"text-align: right;\">\n",
       "      <th></th>\n",
       "      <th>empfehlen</th>\n",
       "      <th>gericht</th>\n",
       "      <th>leckeres</th>\n",
       "      <th>leistung</th>\n",
       "      <th>schlechte</th>\n",
       "      <th>schlechtes</th>\n",
       "      <th>spiel</th>\n",
       "      <th>tolles</th>\n",
       "    </tr>\n",
       "  </thead>\n",
       "  <tbody>\n",
       "    <tr>\n",
       "      <th>0</th>\n",
       "      <td>-0.033768</td>\n",
       "      <td>0.50128</td>\n",
       "      <td>0.50128</td>\n",
       "      <td>-0.644503</td>\n",
       "      <td>-0.644503</td>\n",
       "      <td>-0.50128</td>\n",
       "      <td>0.203028</td>\n",
       "      <td>0.644503</td>\n",
       "    </tr>\n",
       "  </tbody>\n",
       "</table>\n",
       "</div>"
      ]
     },
     "metadata": {},
     "output_type": "display_data"
    },
    {
     "data": {
      "text/html": [
       "<div>\n",
       "<style scoped>\n",
       "    .dataframe tbody tr th:only-of-type {\n",
       "        vertical-align: middle;\n",
       "    }\n",
       "\n",
       "    .dataframe tbody tr th {\n",
       "        vertical-align: top;\n",
       "    }\n",
       "\n",
       "    .dataframe thead th {\n",
       "        text-align: right;\n",
       "    }\n",
       "</style>\n",
       "<table border=\"1\" class=\"dataframe\">\n",
       "  <thead>\n",
       "    <tr style=\"text-align: right;\">\n",
       "      <th></th>\n",
       "      <th>0</th>\n",
       "    </tr>\n",
       "  </thead>\n",
       "  <tbody>\n",
       "    <tr>\n",
       "      <th>empfehlen</th>\n",
       "      <td>-0.033768</td>\n",
       "    </tr>\n",
       "    <tr>\n",
       "      <th>gericht</th>\n",
       "      <td>0.501280</td>\n",
       "    </tr>\n",
       "    <tr>\n",
       "      <th>leckeres</th>\n",
       "      <td>0.501280</td>\n",
       "    </tr>\n",
       "    <tr>\n",
       "      <th>leistung</th>\n",
       "      <td>-0.644503</td>\n",
       "    </tr>\n",
       "    <tr>\n",
       "      <th>schlechte</th>\n",
       "      <td>-0.644503</td>\n",
       "    </tr>\n",
       "    <tr>\n",
       "      <th>schlechtes</th>\n",
       "      <td>-0.501280</td>\n",
       "    </tr>\n",
       "    <tr>\n",
       "      <th>spiel</th>\n",
       "      <td>0.203028</td>\n",
       "    </tr>\n",
       "    <tr>\n",
       "      <th>tolles</th>\n",
       "      <td>0.644503</td>\n",
       "    </tr>\n",
       "  </tbody>\n",
       "</table>\n",
       "</div>"
      ]
     },
     "metadata": {},
     "output_type": "display_data"
    },
    {
     "name": "stdout",
     "output_type": "stream",
     "text": [
      "'Sentiments' for top words\n"
     ]
    },
    {
     "data": {
      "image/png": "[encoded data removed]",
      "text/plain": [
       "<Figure size 300x500 with 1 Axes>"
      ]
     },
     "metadata": {},
     "output_type": "display_data"
    },
    {
     "data": {
      "image/png": "[encoded data removed]",
      "text/plain": [
       "<Figure size 300x500 with 1 Axes>"
      ]
     },
     "metadata": {},
     "output_type": "display_data"
    },
    {
     "data": {
      "image/png": "[encoded data removed]",
      "text/plain": [
       "<Figure size 300x500 with 1 Axes>"
      ]
     },
     "metadata": {},
     "output_type": "display_data"
    }
   ],
   "source": [
    "docs_toy = {\n",
    "    \"toy1\": (10, \"Ein richtig tolles Spiel.\"),\n",
    "    \"toy2\": (1, \"Ganz schlechte Leistung.\"),\n",
    "    \"toy3\": (9, \"Sehr leckeres Gericht. Zu empfehlen.\"),\n",
    "    \"toy4\": (2, \"Ganz schlechtes Spiel. Nicht zu empfehlen.\"),\n",
    "}\n",
    "\n",
    "print(\"Raw input texts\")\n",
    "display_html(pd.DataFrame(docs_toy.values(), index=list(docs_toy.keys()), columns=[\"sentiment\", \"text\"]))\n",
    "\n",
    "nlp_toy = spacy.load(\"de_core_news_sm\")\n",
    "docs_toy = process_docs(nlp_toy, docs_toy)\n",
    "\n",
    "print(\"spaCy cleaned texts\")\n",
    "display_html(pd.DataFrame(docs_toy.values(), index=list(docs_toy.keys()), columns=[\"sentiment\", \"text\"]))\n",
    "\n",
    "mat_toy, scores_toy, vectorizer_toy = compute_dtm(docs_toy, tfidf=False)\n",
    "print(\"DTM (TF/counts) with scores\")\n",
    "display_html(pd.concat([\n",
    "    pd.DataFrame(np.asarray(mat_toy.todense()), columns=vectorizer_toy.get_feature_names_out()),\n",
    "    pd.DataFrame(pd.Series(np.array(scores_toy)), columns=[\"sentiment\"])\n",
    "    ], axis=1))\n",
    "\n",
    "print(\"DTM (TF-IDF) with scores\")\n",
    "mat_toy, scores_toy, vectorizer_toy = compute_dtm(docs_toy)\n",
    "scores_toy = np.array(scores_toy)\n",
    "mat_toy = np.asarray(mat_toy.todense())\n",
    "\n",
    "# pd.Series(scores_toy).hist()\n",
    "# plt.title(\"Scores histogram\")\n",
    "# plt.show()\n",
    "\n",
    "# print(\"mat shape:\", mat_toy.shape)\n",
    "# print(\"features shape:\", vectorizer_toy.get_feature_names_out().shape)\n",
    "# print(\"scores shape:\", scores_toy.shape)\n",
    "# print(\"mat min/max:\", mat_toy.min(), mat_toy.max())\n",
    "\n",
    "df_mat_toy = pd.DataFrame(mat_toy, columns=vectorizer_toy.get_feature_names_out())\n",
    "df_scores_toy = pd.Series(scores_toy)\n",
    "\n",
    "display_html(df_mat_toy.round(2))\n",
    "display_html(pd.concat([df_mat_toy.round(2), pd.DataFrame(df_scores_toy, columns=[\"sentiment\"])], axis=1))\n",
    "\n",
    "# pearson / kendall / spearman\n",
    "corr_toy = df_mat_toy.corrwith(df_scores_toy, method=\"pearson\")\n",
    "corr_toy_kt = df_mat_toy.corrwith(df_scores_toy, method=\"kendall\")\n",
    "corr_toy_sr = df_mat_toy.corrwith(df_scores_toy, method=\"spearman\")\n",
    "\n",
    "print(\"Correlations\")\n",
    "display_html(pd.DataFrame([pd.Series(corr_toy)]))\n",
    "display_html(pd.DataFrame([pd.Series(corr_toy)]).T)\n",
    "\n",
    "print(\"'Sentiments' for top words\")\n",
    "get_best_features_both(corr_toy, corr_toy.index, 30)[::-1].plot(kind=\"barh\")\n",
    "plt.title(\"Pearson (std)\")\n",
    "plt.show()\n",
    "get_best_features_both(corr_toy_kt, corr_toy_kt.index)[::-1].plot(kind=\"barh\")\n",
    "plt.title(\"Kendall Tau\")\n",
    "plt.show()\n",
    "get_best_features_both(corr_toy_sr, corr_toy_sr.index)[::-1].plot(kind=\"barh\")\n",
    "plt.title(\"Spearman rank\")\n",
    "plt.show()"
   ]
  },
  {
   "cell_type": "code",
   "execution_count": null,
   "metadata": {},
   "outputs": [],
   "source": []
  }
 ],
 "metadata": {
  "kernelspec": {
   "display_name": "Python 3 (ipykernel)",
   "language": "python",
   "name": "python3"
  },
  "language_info": {
   "codemirror_mode": {
    "name": "ipython",
    "version": 3
   },
   "file_extension": ".py",
   "mimetype": "text/x-python",
   "name": "python",
   "nbconvert_exporter": "python",
   "pygments_lexer": "ipython3",
   "version": "3.10.14"
  },
  "vscode": {
   "interpreter": {
    "hash": "91ffb5895590f60281fdd2e1b776a40ff188d99ab8e2b7e1ad18b1d76ecbea85"
   }
  }
 },
 "nbformat": 4,
 "nbformat_minor": 2
}
